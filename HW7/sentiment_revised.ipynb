{
  "nbformat": 4,
  "nbformat_minor": 0,
  "metadata": {
    "colab": {
      "provenance": [],
      "authorship_tag": "ABX9TyOUl3/KBFEzMjYqjaORfIYs",
      "include_colab_link": true
    },
    "kernelspec": {
      "name": "python3",
      "display_name": "Python 3"
    },
    "language_info": {
      "name": "python"
    }
  },
  "cells": [
    {
      "cell_type": "markdown",
      "metadata": {
        "id": "view-in-github",
        "colab_type": "text"
      },
      "source": [
        "<a href=\"https://colab.research.google.com/github/avawaxenberg/FDSfE_AWaxenberg/blob/main/HW7/sentiment_revised.ipynb\" target=\"_parent\"><img src=\"https://colab.research.google.com/assets/colab-badge.svg\" alt=\"Open In Colab\"/></a>"
      ]
    },
    {
      "cell_type": "code",
      "execution_count": 33,
      "metadata": {
        "colab": {
          "base_uri": "https://localhost:8080/"
        },
        "id": "wXg78E9jaTOO",
        "outputId": "defc6e4a-9fb4-4c1e-89fd-aa404cb9af5d"
      },
      "outputs": [
        {
          "output_type": "stream",
          "name": "stdout",
          "text": [
            "Looking in indexes: https://pypi.org/simple, https://us-python.pkg.dev/colab-wheels/public/simple/\n",
            "Requirement already satisfied: kaggle in /usr/local/lib/python3.8/dist-packages (1.5.12)\n",
            "Requirement already satisfied: urllib3 in /usr/local/lib/python3.8/dist-packages (from kaggle) (1.24.3)\n",
            "Requirement already satisfied: requests in /usr/local/lib/python3.8/dist-packages (from kaggle) (2.23.0)\n",
            "Requirement already satisfied: six>=1.10 in /usr/local/lib/python3.8/dist-packages (from kaggle) (1.15.0)\n",
            "Requirement already satisfied: python-dateutil in /usr/local/lib/python3.8/dist-packages (from kaggle) (2.8.2)\n",
            "Requirement already satisfied: certifi in /usr/local/lib/python3.8/dist-packages (from kaggle) (2022.9.24)\n",
            "Requirement already satisfied: python-slugify in /usr/local/lib/python3.8/dist-packages (from kaggle) (7.0.0)\n",
            "Requirement already satisfied: tqdm in /usr/local/lib/python3.8/dist-packages (from kaggle) (4.64.1)\n",
            "Requirement already satisfied: text-unidecode>=1.3 in /usr/local/lib/python3.8/dist-packages (from python-slugify->kaggle) (1.3)\n",
            "Requirement already satisfied: idna<3,>=2.5 in /usr/local/lib/python3.8/dist-packages (from requests->kaggle) (2.10)\n",
            "Requirement already satisfied: chardet<4,>=3.0.2 in /usr/local/lib/python3.8/dist-packages (from requests->kaggle) (3.0.4)\n"
          ]
        }
      ],
      "source": [
        "!pip install kaggle"
      ]
    },
    {
      "cell_type": "markdown",
      "source": [
        "Import all necessary functions to read data"
      ],
      "metadata": {
        "id": "dbjB91qzPfrJ"
      }
    },
    {
      "cell_type": "code",
      "source": [
        "import os\n",
        "import json\n",
        "import pandas as pd\n",
        "\n",
        "import numpy as np\n",
        "import pylab as plt\n",
        "import seaborn as sns"
      ],
      "metadata": {
        "id": "-4uGKsdEakCO"
      },
      "execution_count": 34,
      "outputs": []
    },
    {
      "cell_type": "code",
      "source": [
        "from google.colab import drive\n",
        "drive.mount(\"/content/drive\")"
      ],
      "metadata": {
        "colab": {
          "base_uri": "https://localhost:8080/"
        },
        "id": "E9IwTqJmamc8",
        "outputId": "52c6957b-f7e3-4684-d7b5-d994b0479ef6"
      },
      "execution_count": 35,
      "outputs": [
        {
          "output_type": "stream",
          "name": "stdout",
          "text": [
            "Drive already mounted at /content/drive; to attempt to forcibly remount, call drive.mount(\"/content/drive\", force_remount=True).\n"
          ]
        }
      ]
    },
    {
      "cell_type": "code",
      "source": [
        "cd /content/drive/MyDrive/"
      ],
      "metadata": {
        "colab": {
          "base_uri": "https://localhost:8080/"
        },
        "id": "edGI8hy5atmB",
        "outputId": "737982a0-928e-4adb-e01e-1aa9e8919690"
      },
      "execution_count": 36,
      "outputs": [
        {
          "output_type": "stream",
          "name": "stdout",
          "text": [
            "/content/drive/MyDrive\n"
          ]
        }
      ]
    },
    {
      "cell_type": "code",
      "source": [
        "Replace \"kaggle.json\" file with copying path from kaggle json in drive to properly read"
      ],
      "metadata": {
        "id": "M4PQ5oe7Xlip"
      },
      "execution_count": null,
      "outputs": []
    },
    {
      "cell_type": "code",
      "source": [
        "env = json.load(open(\"/content/drive/MyDrive/kaggle.json\", \"r\"))\n",
        "os.environ[\"KAGGLE_USERNAME\"] = env[\"username\"]\n",
        "os.environ[\"KAGGLE_KEY\"] = env[\"key\"]"
      ],
      "metadata": {
        "id": "KT8PYsGzaxrx"
      },
      "execution_count": 37,
      "outputs": []
    },
    {
      "cell_type": "code",
      "source": [
        "!kaggle datasets sentiment"
      ],
      "metadata": {
        "id": "dVM_DdtMa0Q0",
        "colab": {
          "base_uri": "https://localhost:8080/"
        },
        "outputId": "33a951ad-b51b-447a-b6f9-0c8abb17adff"
      },
      "execution_count": 38,
      "outputs": [
        {
          "output_type": "stream",
          "name": "stdout",
          "text": [
            "usage: kaggle datasets\n",
            "       [-h]\n",
            "       {list,files,download,create,version,init,metadata,status}\n",
            "       ...\n",
            "kaggle datasets: error: argument command: invalid choice: 'sentiment' (choose from 'list', 'files', 'download', 'create', 'version', 'init', 'metadata', 'status')\n"
          ]
        }
      ]
    },
    {
      "cell_type": "code",
      "source": [
        "!mkdir sentimentanalysis"
      ],
      "metadata": {
        "id": "W6rcG4caa2x7",
        "colab": {
          "base_uri": "https://localhost:8080/"
        },
        "outputId": "51d6b0ae-b7e9-429e-a218-f9dd7ba2a744"
      },
      "execution_count": 39,
      "outputs": [
        {
          "output_type": "stream",
          "name": "stdout",
          "text": [
            "mkdir: cannot create directory ‘sentimentanalysis’: File exists\n"
          ]
        }
      ]
    },
    {
      "cell_type": "code",
      "source": [
        "cd sentimentanalysis/"
      ],
      "metadata": {
        "id": "sLUbgOloa6o3",
        "colab": {
          "base_uri": "https://localhost:8080/"
        },
        "outputId": "9c407837-464e-4d33-eeb8-a835cdee8cdd"
      },
      "execution_count": 40,
      "outputs": [
        {
          "output_type": "stream",
          "name": "stdout",
          "text": [
            "/content/drive/MyDrive/sentimentanalysis\n"
          ]
        }
      ]
    },
    {
      "cell_type": "code",
      "source": [
        "!kaggle competitions download -c sentiment-analysis-on-movie-reviews"
      ],
      "metadata": {
        "id": "F106Mh3La9FW",
        "colab": {
          "base_uri": "https://localhost:8080/"
        },
        "outputId": "9ba124d5-bb84-4774-93f8-f4e067919a46"
      },
      "execution_count": 41,
      "outputs": [
        {
          "output_type": "stream",
          "name": "stdout",
          "text": [
            "Downloading sentiment-analysis-on-movie-reviews.zip to /content/drive/MyDrive/sentimentanalysis\n",
            "\r  0% 0.00/1.90M [00:00<?, ?B/s]\n",
            "\r100% 1.90M/1.90M [00:00<00:00, 98.4MB/s]\n"
          ]
        }
      ]
    },
    {
      "cell_type": "code",
      "source": [
        "!ls *"
      ],
      "metadata": {
        "id": "H31a0-dRa_lE",
        "colab": {
          "base_uri": "https://localhost:8080/"
        },
        "outputId": "e07c1b01-c5ba-48b3-86b2-93b936a680e9"
      },
      "execution_count": 42,
      "outputs": [
        {
          "output_type": "stream",
          "name": "stdout",
          "text": [
            "sentiment-analysis-on-movie-reviews.zip\n"
          ]
        }
      ]
    },
    {
      "cell_type": "code",
      "source": [
        "*May not be necessary* !unzip -o to properly read file since I did not use just \"kaggle.json\""
      ],
      "metadata": {
        "id": "ho6_y9AvXteK"
      },
      "execution_count": null,
      "outputs": []
    },
    {
      "cell_type": "code",
      "source": [
        "!unzip -o  sentiment-analysis-on-movie-reviews.zip"
      ],
      "metadata": {
        "id": "Xsn_4WembBol",
        "colab": {
          "base_uri": "https://localhost:8080/"
        },
        "outputId": "3a184030-05ae-45a5-9762-1bc2b7a2a0cf"
      },
      "execution_count": 43,
      "outputs": [
        {
          "output_type": "stream",
          "name": "stdout",
          "text": [
            "Archive:  sentiment-analysis-on-movie-reviews.zip\n",
            "  inflating: sampleSubmission.csv    \n",
            "  inflating: test.tsv.zip            \n",
            "  inflating: train.tsv.zip           \n"
          ]
        }
      ]
    },
    {
      "cell_type": "code",
      "source": [
        "Define reviews for sentiment of movies database"
      ],
      "metadata": {
        "id": "3p12WeHOX0Xa"
      },
      "execution_count": null,
      "outputs": []
    },
    {
      "cell_type": "code",
      "source": [
        "reviews = pd.read_csv(\"train.tsv.zip\", sep=\"\\t\")\n",
        "reviews"
      ],
      "metadata": {
        "id": "HwHAJYt7yXSN",
        "colab": {
          "base_uri": "https://localhost:8080/",
          "height": 424
        },
        "outputId": "68c619a8-e4cf-4dde-f4a4-1bec4d24eda1"
      },
      "execution_count": 44,
      "outputs": [
        {
          "output_type": "execute_result",
          "data": {
            "text/plain": [
              "        PhraseId  SentenceId  \\\n",
              "0              1           1   \n",
              "1              2           1   \n",
              "2              3           1   \n",
              "3              4           1   \n",
              "4              5           1   \n",
              "...          ...         ...   \n",
              "156055    156056        8544   \n",
              "156056    156057        8544   \n",
              "156057    156058        8544   \n",
              "156058    156059        8544   \n",
              "156059    156060        8544   \n",
              "\n",
              "                                                   Phrase  Sentiment  \n",
              "0       A series of escapades demonstrating the adage ...          1  \n",
              "1       A series of escapades demonstrating the adage ...          2  \n",
              "2                                                A series          2  \n",
              "3                                                       A          2  \n",
              "4                                                  series          2  \n",
              "...                                                   ...        ...  \n",
              "156055                                          Hearst 's          2  \n",
              "156056                          forced avuncular chortles          1  \n",
              "156057                                 avuncular chortles          3  \n",
              "156058                                          avuncular          2  \n",
              "156059                                           chortles          2  \n",
              "\n",
              "[156060 rows x 4 columns]"
            ],
            "text/html": [
              "\n",
              "  <div id=\"df-4674c2f8-7b77-4340-b0b1-5ab98195f575\">\n",
              "    <div class=\"colab-df-container\">\n",
              "      <div>\n",
              "<style scoped>\n",
              "    .dataframe tbody tr th:only-of-type {\n",
              "        vertical-align: middle;\n",
              "    }\n",
              "\n",
              "    .dataframe tbody tr th {\n",
              "        vertical-align: top;\n",
              "    }\n",
              "\n",
              "    .dataframe thead th {\n",
              "        text-align: right;\n",
              "    }\n",
              "</style>\n",
              "<table border=\"1\" class=\"dataframe\">\n",
              "  <thead>\n",
              "    <tr style=\"text-align: right;\">\n",
              "      <th></th>\n",
              "      <th>PhraseId</th>\n",
              "      <th>SentenceId</th>\n",
              "      <th>Phrase</th>\n",
              "      <th>Sentiment</th>\n",
              "    </tr>\n",
              "  </thead>\n",
              "  <tbody>\n",
              "    <tr>\n",
              "      <th>0</th>\n",
              "      <td>1</td>\n",
              "      <td>1</td>\n",
              "      <td>A series of escapades demonstrating the adage ...</td>\n",
              "      <td>1</td>\n",
              "    </tr>\n",
              "    <tr>\n",
              "      <th>1</th>\n",
              "      <td>2</td>\n",
              "      <td>1</td>\n",
              "      <td>A series of escapades demonstrating the adage ...</td>\n",
              "      <td>2</td>\n",
              "    </tr>\n",
              "    <tr>\n",
              "      <th>2</th>\n",
              "      <td>3</td>\n",
              "      <td>1</td>\n",
              "      <td>A series</td>\n",
              "      <td>2</td>\n",
              "    </tr>\n",
              "    <tr>\n",
              "      <th>3</th>\n",
              "      <td>4</td>\n",
              "      <td>1</td>\n",
              "      <td>A</td>\n",
              "      <td>2</td>\n",
              "    </tr>\n",
              "    <tr>\n",
              "      <th>4</th>\n",
              "      <td>5</td>\n",
              "      <td>1</td>\n",
              "      <td>series</td>\n",
              "      <td>2</td>\n",
              "    </tr>\n",
              "    <tr>\n",
              "      <th>...</th>\n",
              "      <td>...</td>\n",
              "      <td>...</td>\n",
              "      <td>...</td>\n",
              "      <td>...</td>\n",
              "    </tr>\n",
              "    <tr>\n",
              "      <th>156055</th>\n",
              "      <td>156056</td>\n",
              "      <td>8544</td>\n",
              "      <td>Hearst 's</td>\n",
              "      <td>2</td>\n",
              "    </tr>\n",
              "    <tr>\n",
              "      <th>156056</th>\n",
              "      <td>156057</td>\n",
              "      <td>8544</td>\n",
              "      <td>forced avuncular chortles</td>\n",
              "      <td>1</td>\n",
              "    </tr>\n",
              "    <tr>\n",
              "      <th>156057</th>\n",
              "      <td>156058</td>\n",
              "      <td>8544</td>\n",
              "      <td>avuncular chortles</td>\n",
              "      <td>3</td>\n",
              "    </tr>\n",
              "    <tr>\n",
              "      <th>156058</th>\n",
              "      <td>156059</td>\n",
              "      <td>8544</td>\n",
              "      <td>avuncular</td>\n",
              "      <td>2</td>\n",
              "    </tr>\n",
              "    <tr>\n",
              "      <th>156059</th>\n",
              "      <td>156060</td>\n",
              "      <td>8544</td>\n",
              "      <td>chortles</td>\n",
              "      <td>2</td>\n",
              "    </tr>\n",
              "  </tbody>\n",
              "</table>\n",
              "<p>156060 rows × 4 columns</p>\n",
              "</div>\n",
              "      <button class=\"colab-df-convert\" onclick=\"convertToInteractive('df-4674c2f8-7b77-4340-b0b1-5ab98195f575')\"\n",
              "              title=\"Convert this dataframe to an interactive table.\"\n",
              "              style=\"display:none;\">\n",
              "        \n",
              "  <svg xmlns=\"http://www.w3.org/2000/svg\" height=\"24px\"viewBox=\"0 0 24 24\"\n",
              "       width=\"24px\">\n",
              "    <path d=\"M0 0h24v24H0V0z\" fill=\"none\"/>\n",
              "    <path d=\"M18.56 5.44l.94 2.06.94-2.06 2.06-.94-2.06-.94-.94-2.06-.94 2.06-2.06.94zm-11 1L8.5 8.5l.94-2.06 2.06-.94-2.06-.94L8.5 2.5l-.94 2.06-2.06.94zm10 10l.94 2.06.94-2.06 2.06-.94-2.06-.94-.94-2.06-.94 2.06-2.06.94z\"/><path d=\"M17.41 7.96l-1.37-1.37c-.4-.4-.92-.59-1.43-.59-.52 0-1.04.2-1.43.59L10.3 9.45l-7.72 7.72c-.78.78-.78 2.05 0 2.83L4 21.41c.39.39.9.59 1.41.59.51 0 1.02-.2 1.41-.59l7.78-7.78 2.81-2.81c.8-.78.8-2.07 0-2.86zM5.41 20L4 18.59l7.72-7.72 1.47 1.35L5.41 20z\"/>\n",
              "  </svg>\n",
              "      </button>\n",
              "      \n",
              "  <style>\n",
              "    .colab-df-container {\n",
              "      display:flex;\n",
              "      flex-wrap:wrap;\n",
              "      gap: 12px;\n",
              "    }\n",
              "\n",
              "    .colab-df-convert {\n",
              "      background-color: #E8F0FE;\n",
              "      border: none;\n",
              "      border-radius: 50%;\n",
              "      cursor: pointer;\n",
              "      display: none;\n",
              "      fill: #1967D2;\n",
              "      height: 32px;\n",
              "      padding: 0 0 0 0;\n",
              "      width: 32px;\n",
              "    }\n",
              "\n",
              "    .colab-df-convert:hover {\n",
              "      background-color: #E2EBFA;\n",
              "      box-shadow: 0px 1px 2px rgba(60, 64, 67, 0.3), 0px 1px 3px 1px rgba(60, 64, 67, 0.15);\n",
              "      fill: #174EA6;\n",
              "    }\n",
              "\n",
              "    [theme=dark] .colab-df-convert {\n",
              "      background-color: #3B4455;\n",
              "      fill: #D2E3FC;\n",
              "    }\n",
              "\n",
              "    [theme=dark] .colab-df-convert:hover {\n",
              "      background-color: #434B5C;\n",
              "      box-shadow: 0px 1px 3px 1px rgba(0, 0, 0, 0.15);\n",
              "      filter: drop-shadow(0px 1px 2px rgba(0, 0, 0, 0.3));\n",
              "      fill: #FFFFFF;\n",
              "    }\n",
              "  </style>\n",
              "\n",
              "      <script>\n",
              "        const buttonEl =\n",
              "          document.querySelector('#df-4674c2f8-7b77-4340-b0b1-5ab98195f575 button.colab-df-convert');\n",
              "        buttonEl.style.display =\n",
              "          google.colab.kernel.accessAllowed ? 'block' : 'none';\n",
              "\n",
              "        async function convertToInteractive(key) {\n",
              "          const element = document.querySelector('#df-4674c2f8-7b77-4340-b0b1-5ab98195f575');\n",
              "          const dataTable =\n",
              "            await google.colab.kernel.invokeFunction('convertToInteractive',\n",
              "                                                     [key], {});\n",
              "          if (!dataTable) return;\n",
              "\n",
              "          const docLinkHtml = 'Like what you see? Visit the ' +\n",
              "            '<a target=\"_blank\" href=https://colab.research.google.com/notebooks/data_table.ipynb>data table notebook</a>'\n",
              "            + ' to learn more about interactive tables.';\n",
              "          element.innerHTML = '';\n",
              "          dataTable['output_type'] = 'display_data';\n",
              "          await google.colab.output.renderOutput(dataTable, element);\n",
              "          const docLink = document.createElement('div');\n",
              "          docLink.innerHTML = docLinkHtml;\n",
              "          element.appendChild(docLink);\n",
              "        }\n",
              "      </script>\n",
              "    </div>\n",
              "  </div>\n",
              "  "
            ]
          },
          "metadata": {},
          "execution_count": 44
        }
      ]
    },
    {
      "cell_type": "code",
      "source": [
        "reviews.shape"
      ],
      "metadata": {
        "id": "Vv3JKX4mylVA",
        "colab": {
          "base_uri": "https://localhost:8080/"
        },
        "outputId": "5c98512c-fc08-40a4-d93e-595f4c96abbe"
      },
      "execution_count": 45,
      "outputs": [
        {
          "output_type": "execute_result",
          "data": {
            "text/plain": [
              "(156060, 4)"
            ]
          },
          "metadata": {},
          "execution_count": 45
        }
      ]
    },
    {
      "cell_type": "markdown",
      "source": [
        "Specificy which columns of the reviews database are important for idenitifying and running their values"
      ],
      "metadata": {
        "id": "FXn4tIwcZJAt"
      }
    },
    {
      "cell_type": "code",
      "source": [
        "reviews[[\"Phrase\", \"Sentiment\"]].values"
      ],
      "metadata": {
        "id": "6A95hJceyoOm",
        "colab": {
          "base_uri": "https://localhost:8080/"
        },
        "outputId": "7a3acdf0-c2e7-444e-ef3d-c3136ff3ef90"
      },
      "execution_count": 46,
      "outputs": [
        {
          "output_type": "execute_result",
          "data": {
            "text/plain": [
              "array([['A series of escapades demonstrating the adage that what is good for the goose is also good for the gander , some of which occasionally amuses but none of which amounts to much of a story .',\n",
              "        1],\n",
              "       ['A series of escapades demonstrating the adage that what is good for the goose',\n",
              "        2],\n",
              "       ['A series', 2],\n",
              "       ...,\n",
              "       ['avuncular chortles', 3],\n",
              "       ['avuncular', 2],\n",
              "       ['chortles', 2]], dtype=object)"
            ]
          },
          "metadata": {},
          "execution_count": 46
        }
      ]
    },
    {
      "cell_type": "markdown",
      "source": [
        "Import numpy to print specific tasks within the database and create arrays "
      ],
      "metadata": {
        "id": "YaWLtVk3ZREB"
      }
    },
    {
      "cell_type": "code",
      "source": [
        "import numpy as np\n",
        "print('Number of Reviews/Documents: {}'.format(len(reviews)))\n",
        "\n",
        "print('Corpus Size (words): {}'.format(np.sum([len(d.split()) \n",
        "              for d in reviews[\"Phrase\"].values])))"
      ],
      "metadata": {
        "id": "WjFPHcsbyrTH",
        "colab": {
          "base_uri": "https://localhost:8080/"
        },
        "outputId": "9a79ddd9-09c8-4acf-97fc-b3990551c2be"
      },
      "execution_count": 47,
      "outputs": [
        {
          "output_type": "stream",
          "name": "stdout",
          "text": [
            "Number of Reviews/Documents: 156060\n",
            "Corpus Size (words): 1124157\n"
          ]
        }
      ]
    },
    {
      "cell_type": "code",
      "source": [
        "reviews.Sentiment.unique()"
      ],
      "metadata": {
        "id": "abqJbYGIyuwC",
        "colab": {
          "base_uri": "https://localhost:8080/"
        },
        "outputId": "a7faeab9-9ab6-43b2-c0e7-1d69db8e9e21"
      },
      "execution_count": 48,
      "outputs": [
        {
          "output_type": "execute_result",
          "data": {
            "text/plain": [
              "array([1, 2, 3, 4, 0])"
            ]
          },
          "metadata": {},
          "execution_count": 48
        }
      ]
    },
    {
      "cell_type": "markdown",
      "source": [
        "Create graph to display the set of movie reviews within the certain set of bins "
      ],
      "metadata": {
        "id": "HEoJfwfHZzLX"
      }
    },
    {
      "cell_type": "code",
      "source": [
        "import pylab as plt\n",
        "plt.hist(reviews[\"Sentiment\"], bins=[-0.5, 0.5, 1.5, 2.5, 3.5, 4.5])"
      ],
      "metadata": {
        "id": "GzN-IKR_zGR6",
        "colab": {
          "base_uri": "https://localhost:8080/",
          "height": 317
        },
        "outputId": "6a02fd8d-1bce-456e-86f9-1b5316fb2b95"
      },
      "execution_count": 49,
      "outputs": [
        {
          "output_type": "execute_result",
          "data": {
            "text/plain": [
              "(array([ 7072., 27273., 79582., 32927.,  9206.]),\n",
              " array([-0.5,  0.5,  1.5,  2.5,  3.5,  4.5]),\n",
              " <a list of 5 Patch objects>)"
            ]
          },
          "metadata": {},
          "execution_count": 49
        },
        {
          "output_type": "display_data",
          "data": {
            "text/plain": [
              "<Figure size 432x288 with 1 Axes>"
            ],
            "image/png": "[encoded data removed]"
          },
          "metadata": {
            "needs_background": "light"
          }
        }
      ]
    },
    {
      "cell_type": "code",
      "source": [
        "!pip install stop_words"
      ],
      "metadata": {
        "id": "RNivRNB1zImw",
        "colab": {
          "base_uri": "https://localhost:8080/"
        },
        "outputId": "05525783-14c6-4419-eeca-275a3ebe1e6d"
      },
      "execution_count": 50,
      "outputs": [
        {
          "output_type": "stream",
          "name": "stdout",
          "text": [
            "Looking in indexes: https://pypi.org/simple, https://us-python.pkg.dev/colab-wheels/public/simple/\n",
            "Collecting stop_words\n",
            "  Downloading stop-words-2018.7.23.tar.gz (31 kB)\n",
            "Building wheels for collected packages: stop-words\n",
            "  Building wheel for stop-words (setup.py) ... \u001b[?25l\u001b[?25hdone\n",
            "  Created wheel for stop-words: filename=stop_words-2018.7.23-py3-none-any.whl size=32910 sha256=a3acd4998a40265d43f9317f2b194fa8e894291aff048abdf7eaeae907144cd7\n",
            "  Stored in directory: /root/.cache/pip/wheels/eb/03/0d/3bd31c983789aeb0b4d5e2ca48590288d9db1586cf5f225062\n",
            "Successfully built stop-words\n",
            "Installing collected packages: stop-words\n",
            "Successfully installed stop-words-2018.7.23\n"
          ]
        }
      ]
    },
    {
      "cell_type": "code",
      "source": [
        "import nltk \n",
        "from nltk.stem.porter import PorterStemmer\n",
        "from nltk.corpus import stopwords\n",
        "from stop_words import get_stop_words\n",
        "from textblob import TextBlob , Word\n",
        "import re \n",
        "import string"
      ],
      "metadata": {
        "id": "OMvE6dkhzLCa"
      },
      "execution_count": 51,
      "outputs": []
    },
    {
      "cell_type": "code",
      "source": [
        "from nltk.tokenize import word_tokenize"
      ],
      "metadata": {
        "id": "U9d4YPEyzNil"
      },
      "execution_count": 52,
      "outputs": []
    },
    {
      "cell_type": "code",
      "source": [
        "!python -m nltk.downloader punkt"
      ],
      "metadata": {
        "id": "sOEzZ3UGzQCh",
        "colab": {
          "base_uri": "https://localhost:8080/"
        },
        "outputId": "3e26d2ce-f504-4f57-e627-d903f36c0def"
      },
      "execution_count": 53,
      "outputs": [
        {
          "output_type": "stream",
          "name": "stdout",
          "text": [
            "/usr/lib/python3.8/runpy.py:127: RuntimeWarning: 'nltk.downloader' found in sys.modules after import of package 'nltk', but prior to execution of 'nltk.downloader'; this may result in unpredictable behaviour\n",
            "  warn(RuntimeWarning(msg))\n",
            "[nltk_data] Downloading package punkt to /root/nltk_data...\n",
            "[nltk_data]   Unzipping tokenizers/punkt.zip.\n"
          ]
        }
      ]
    },
    {
      "cell_type": "code",
      "source": [
        "from nltk.tokenize import word_tokenize"
      ],
      "metadata": {
        "id": "JehhBz0UzTTk"
      },
      "execution_count": 54,
      "outputs": []
    },
    {
      "cell_type": "markdown",
      "source": [
        "\"Token\" the reviews function from streams of words into phrases and numbers of words/phrases "
      ],
      "metadata": {
        "id": "7_tu-MAKadCu"
      }
    },
    {
      "cell_type": "code",
      "source": [
        "reviews['Phrase'] = reviews['Phrase'].str.lower(\n",
        "    ).str.replace('[^\\w\\s]', '').str.replace('\\d+',\n",
        "                    '').str.replace('\\n',' ').replace(\n",
        "                        '\\r','').str.replace(\n",
        "                            \"[^a-zA-Z0-9\\s]\",'') "
      ],
      "metadata": {
        "id": "Q8URzth-zVDX",
        "colab": {
          "base_uri": "https://localhost:8080/"
        },
        "outputId": "c9df950c-b306-424b-b390-d3b0c8140d61"
      },
      "execution_count": 55,
      "outputs": [
        {
          "output_type": "stream",
          "name": "stderr",
          "text": [
            "<ipython-input-55-cc559fd93f41>:1: FutureWarning: The default value of regex will change from True to False in a future version.\n",
            "  reviews['Phrase'] = reviews['Phrase'].str.lower(\n"
          ]
        }
      ]
    },
    {
      "cell_type": "code",
      "source": [
        "reviews['Phrase'] = reviews['Phrase'].apply(lambda x : \n",
        "                  word_tokenize(x.lower())) # sentence -> words\n",
        "reviews['Phrase']"
      ],
      "metadata": {
        "id": "ZTNTgyMYzXLg",
        "colab": {
          "base_uri": "https://localhost:8080/"
        },
        "outputId": "99f2f151-92d5-454b-cc0e-e1eb93756b1a"
      },
      "execution_count": 56,
      "outputs": [
        {
          "output_type": "execute_result",
          "data": {
            "text/plain": [
              "0         [a, series, of, escapades, demonstrating, the,...\n",
              "1         [a, series, of, escapades, demonstrating, the,...\n",
              "2                                               [a, series]\n",
              "3                                                       [a]\n",
              "4                                                  [series]\n",
              "                                ...                        \n",
              "156055                                          [hearst, s]\n",
              "156056                        [forced, avuncular, chortles]\n",
              "156057                                [avuncular, chortles]\n",
              "156058                                          [avuncular]\n",
              "156059                                           [chortles]\n",
              "Name: Phrase, Length: 156060, dtype: object"
            ]
          },
          "metadata": {},
          "execution_count": 56
        }
      ]
    },
    {
      "cell_type": "markdown",
      "source": [
        "The word cloud, after being \"tokenized\" from a stream into phrases, takes the words in this \"cloud\" and lists them as STOPWORDS"
      ],
      "metadata": {
        "id": "-8PX_yjDbfyr"
      }
    },
    {
      "cell_type": "code",
      "source": [
        "from wordcloud import WordCloud, STOPWORDS\n",
        "STOPWORDS"
      ],
      "metadata": {
        "id": "1tw5_76o0CCj",
        "colab": {
          "base_uri": "https://localhost:8080/"
        },
        "outputId": "9a8f4000-d727-4346-ee73-acd338efe6e0"
      },
      "execution_count": 57,
      "outputs": [
        {
          "output_type": "execute_result",
          "data": {
            "text/plain": [
              "{'a',\n",
              " 'about',\n",
              " 'above',\n",
              " 'after',\n",
              " 'again',\n",
              " 'against',\n",
              " 'all',\n",
              " 'also',\n",
              " 'am',\n",
              " 'an',\n",
              " 'and',\n",
              " 'any',\n",
              " 'are',\n",
              " \"aren't\",\n",
              " 'as',\n",
              " 'at',\n",
              " 'be',\n",
              " 'because',\n",
              " 'been',\n",
              " 'before',\n",
              " 'being',\n",
              " 'below',\n",
              " 'between',\n",
              " 'both',\n",
              " 'but',\n",
              " 'by',\n",
              " 'can',\n",
              " \"can't\",\n",
              " 'cannot',\n",
              " 'com',\n",
              " 'could',\n",
              " \"couldn't\",\n",
              " 'did',\n",
              " \"didn't\",\n",
              " 'do',\n",
              " 'does',\n",
              " \"doesn't\",\n",
              " 'doing',\n",
              " \"don't\",\n",
              " 'down',\n",
              " 'during',\n",
              " 'each',\n",
              " 'else',\n",
              " 'ever',\n",
              " 'few',\n",
              " 'for',\n",
              " 'from',\n",
              " 'further',\n",
              " 'get',\n",
              " 'had',\n",
              " \"hadn't\",\n",
              " 'has',\n",
              " \"hasn't\",\n",
              " 'have',\n",
              " \"haven't\",\n",
              " 'having',\n",
              " 'he',\n",
              " \"he'd\",\n",
              " \"he'll\",\n",
              " \"he's\",\n",
              " 'hence',\n",
              " 'her',\n",
              " 'here',\n",
              " \"here's\",\n",
              " 'hers',\n",
              " 'herself',\n",
              " 'him',\n",
              " 'himself',\n",
              " 'his',\n",
              " 'how',\n",
              " \"how's\",\n",
              " 'however',\n",
              " 'http',\n",
              " 'i',\n",
              " \"i'd\",\n",
              " \"i'll\",\n",
              " \"i'm\",\n",
              " \"i've\",\n",
              " 'if',\n",
              " 'in',\n",
              " 'into',\n",
              " 'is',\n",
              " \"isn't\",\n",
              " 'it',\n",
              " \"it's\",\n",
              " 'its',\n",
              " 'itself',\n",
              " 'just',\n",
              " 'k',\n",
              " \"let's\",\n",
              " 'like',\n",
              " 'me',\n",
              " 'more',\n",
              " 'most',\n",
              " \"mustn't\",\n",
              " 'my',\n",
              " 'myself',\n",
              " 'no',\n",
              " 'nor',\n",
              " 'not',\n",
              " 'of',\n",
              " 'off',\n",
              " 'on',\n",
              " 'once',\n",
              " 'only',\n",
              " 'or',\n",
              " 'other',\n",
              " 'otherwise',\n",
              " 'ought',\n",
              " 'our',\n",
              " 'ours',\n",
              " 'ourselves',\n",
              " 'out',\n",
              " 'over',\n",
              " 'own',\n",
              " 'r',\n",
              " 'same',\n",
              " 'shall',\n",
              " \"shan't\",\n",
              " 'she',\n",
              " \"she'd\",\n",
              " \"she'll\",\n",
              " \"she's\",\n",
              " 'should',\n",
              " \"shouldn't\",\n",
              " 'since',\n",
              " 'so',\n",
              " 'some',\n",
              " 'such',\n",
              " 'than',\n",
              " 'that',\n",
              " \"that's\",\n",
              " 'the',\n",
              " 'their',\n",
              " 'theirs',\n",
              " 'them',\n",
              " 'themselves',\n",
              " 'then',\n",
              " 'there',\n",
              " \"there's\",\n",
              " 'therefore',\n",
              " 'these',\n",
              " 'they',\n",
              " \"they'd\",\n",
              " \"they'll\",\n",
              " \"they're\",\n",
              " \"they've\",\n",
              " 'this',\n",
              " 'those',\n",
              " 'through',\n",
              " 'to',\n",
              " 'too',\n",
              " 'under',\n",
              " 'until',\n",
              " 'up',\n",
              " 'very',\n",
              " 'was',\n",
              " \"wasn't\",\n",
              " 'we',\n",
              " \"we'd\",\n",
              " \"we'll\",\n",
              " \"we're\",\n",
              " \"we've\",\n",
              " 'were',\n",
              " \"weren't\",\n",
              " 'what',\n",
              " \"what's\",\n",
              " 'when',\n",
              " \"when's\",\n",
              " 'where',\n",
              " \"where's\",\n",
              " 'which',\n",
              " 'while',\n",
              " 'who',\n",
              " \"who's\",\n",
              " 'whom',\n",
              " 'why',\n",
              " \"why's\",\n",
              " 'with',\n",
              " \"won't\",\n",
              " 'would',\n",
              " \"wouldn't\",\n",
              " 'www',\n",
              " 'you',\n",
              " \"you'd\",\n",
              " \"you'll\",\n",
              " \"you're\",\n",
              " \"you've\",\n",
              " 'your',\n",
              " 'yours',\n",
              " 'yourself',\n",
              " 'yourselves'}"
            ]
          },
          "metadata": {},
          "execution_count": 57
        }
      ]
    },
    {
      "cell_type": "code",
      "source": [
        "reviews[\"Phrase\"] = reviews[\"Phrase\"].apply(lambda x : \n",
        "                  [word for word in x if word not in STOPWORDS])"
      ],
      "metadata": {
        "id": "znDaj8jC0Et5"
      },
      "execution_count": 58,
      "outputs": []
    },
    {
      "cell_type": "markdown",
      "source": [
        "Use seaborn to plot/graph/design these stopwords from the word cloud into an image "
      ],
      "metadata": {
        "id": "TOj40FCSbpZH"
      }
    },
    {
      "cell_type": "code",
      "source": [
        "import seaborn as sns"
      ],
      "metadata": {
        "id": "5pkSMIil0Iqa"
      },
      "execution_count": 59,
      "outputs": []
    },
    {
      "cell_type": "markdown",
      "source": [
        "Define word frequency and the top 10 most common words from the word cloud/stopwords and plot graph as a visual based on frequency of most commonly used words in word cloud"
      ],
      "metadata": {
        "id": "MRT-LwuYeTMO"
      }
    },
    {
      "cell_type": "code",
      "source": [
        "words_freq = pd.DataFrame(nltk.FreqDist(reviews.Phrase.sum(\n",
        "                                          )).most_common(10), \n",
        "                          columns=['Top Words', 'Frequency'])\n",
        "sns.barplot(x=\"Top Words\",y=\"Frequency\",data=words_freq)"
      ],
      "metadata": {
        "id": "6AuTK5CT0K5K",
        "colab": {
          "base_uri": "https://localhost:8080/",
          "height": 296
        },
        "outputId": "bc8a9902-e591-4490-eaa3-06f53ee76d55"
      },
      "execution_count": 61,
      "outputs": [
        {
          "output_type": "execute_result",
          "data": {
            "text/plain": [
              "<matplotlib.axes._subplots.AxesSubplot at 0x7f1a08a43e20>"
            ]
          },
          "metadata": {},
          "execution_count": 61
        },
        {
          "output_type": "display_data",
          "data": {
            "text/plain": [
              "<Figure size 432x288 with 1 Axes>"
            ],
            "image/png": "[encoded data removed]"
          },
          "metadata": {
            "needs_background": "light"
          }
        }
      ]
    },
    {
      "cell_type": "code",
      "source": [
        "reviews[\"Phrase\"] = reviews[\"Phrase\"].apply(lambda x : \n",
        "                  [word for word in x if word not in \n",
        "                   [\"s\", \"nt\", \"rrb\", \"lrb\", \"one\"]])"
      ],
      "metadata": {
        "id": "FSBW58lH0M_3"
      },
      "execution_count": 62,
      "outputs": []
    },
    {
      "cell_type": "code",
      "source": [
        "words_freq = pd.DataFrame(nltk.FreqDist(reviews.Phrase.sum(\n",
        "                                          )).most_common(10), \n",
        "                          columns=['Top Words', 'Frequency'])\n",
        "ax = sns.barplot(x=\"Top Words\",y=\"Frequency\",data=words_freq)\n",
        "plt.xticks(rotation = 45)"
      ],
      "metadata": {
        "id": "Ib07q1va0QDY"
      },
      "execution_count": null,
      "outputs": []
    },
    {
      "cell_type": "markdown",
      "source": [
        "Plot word frequency into a visual word cloud of top 10 most common words"
      ],
      "metadata": {
        "id": "FG1WjYlhebZx"
      }
    },
    {
      "cell_type": "code",
      "source": [
        "import pylab as plt\n",
        "def wc(data,bgcolor): # word cloud\n",
        "    plt.figure(figsize=(10,10))\n",
        "    wc=WordCloud(background_color=bgcolor,max_words=100, \n",
        "                 min_word_length=4, contour_width=3, \n",
        "                 contour_color='steelblue')\n",
        "    wc.generate(\" \".join(data))\n",
        "    plt.imshow(wc)\n",
        "    plt.axis(\"off\")\n",
        "wc(reviews[reviews.Sentiment==0.0].Phrase.sum(), 'white')"
      ],
      "metadata": {
        "id": "GtuguiR20TJs"
      },
      "execution_count": null,
      "outputs": []
    },
    {
      "cell_type": "code",
      "source": [
        "wc(reviews[reviews.Sentiment==4.0].Phrase.sum(), 'white')"
      ],
      "metadata": {
        "id": "_hIjTUOy0Y4r"
      },
      "execution_count": null,
      "outputs": []
    },
    {
      "cell_type": "code",
      "source": [
        "!pip install vaderSentiment"
      ],
      "metadata": {
        "id": "b21uXq6I0cCL"
      },
      "execution_count": null,
      "outputs": []
    },
    {
      "cell_type": "markdown",
      "source": [
        "The point of Vader Sentiment is to essentially \"read\" the words from te word cloud/stopwords based on context of emotion and polarity "
      ],
      "metadata": {
        "id": "zwcbCkaGfkEu"
      }
    },
    {
      "cell_type": "code",
      "source": [
        "from vaderSentiment.vaderSentiment import SentimentIntensityAnalyzer\n",
        "sid_obj = SentimentIntensityAnalyzer()\n",
        "sid_obj.polarity_scores(\"series escapades demonstrating adage good goose good gander occasionally amuses none amounts much story\")"
      ],
      "metadata": {
        "id": "MLP-hF2n0eae"
      },
      "execution_count": null,
      "outputs": []
    },
    {
      "cell_type": "code",
      "source": [
        "sid_obj = SentimentIntensityAnalyzer()\n",
        "sentiment_dict = sid_obj.polarity_scores(' '.join(reviews.Phrase[3]))\n",
        "print(sentiment_dict['compound'])"
      ],
      "metadata": {
        "id": "HyteTqUC0kTg"
      },
      "execution_count": null,
      "outputs": []
    },
    {
      "cell_type": "markdown",
      "source": [
        "Input [value] to read the vader sentiment of each word being ran/read"
      ],
      "metadata": {
        "id": "K8I1Woh3f1lF"
      }
    },
    {
      "cell_type": "code",
      "source": [
        "reviews.Sentiment[3]"
      ],
      "metadata": {
        "id": "CoL8Mbtx0m8d"
      },
      "execution_count": null,
      "outputs": []
    },
    {
      "cell_type": "code",
      "source": [
        "def sentiment_vader(words):\n",
        "  sid_obj = SentimentIntensityAnalyzer()\n",
        "  sentiment_dict = sid_obj.polarity_scores(' '.join(words))\n",
        "  return sentiment_dict['compound']"
      ],
      "metadata": {
        "id": "EJ3JLcd10qTa"
      },
      "execution_count": null,
      "outputs": []
    },
    {
      "cell_type": "code",
      "source": [
        "for i in reviews.index[:10]:\n",
        "  print(sentiment_vader(reviews.Phrase[i]), reviews.Sentiment[i])"
      ],
      "metadata": {
        "id": "OivOygew1RyK"
      },
      "execution_count": null,
      "outputs": []
    },
    {
      "cell_type": "code",
      "source": [
        "y = [sentiment_vader(reviews.Phrase[i]) for i in reviews.index]"
      ],
      "metadata": {
        "id": "2OWgHJJR1TxJ"
      },
      "execution_count": null,
      "outputs": []
    },
    {
      "cell_type": "code",
      "source": [
        "reviews[reviews.Sentiment == 0].Sentiment.values"
      ],
      "metadata": {
        "id": "UpYeR1cv1WAc"
      },
      "execution_count": null,
      "outputs": []
    },
    {
      "cell_type": "markdown",
      "source": [
        "Create array to read what generated/ran from the value inputted for vader sentiment "
      ],
      "metadata": {
        "id": "jmtQu7Ykf9oY"
      }
    },
    {
      "cell_type": "code",
      "source": [
        "y = np.array(y)"
      ],
      "metadata": {
        "id": "OrDtVywa1YA1"
      },
      "execution_count": null,
      "outputs": []
    },
    {
      "cell_type": "markdown",
      "source": [
        "Plot array in a certain value within a range "
      ],
      "metadata": {
        "id": "ILAaJ4TehnVi"
      }
    },
    {
      "cell_type": "code",
      "source": [
        "plt.errorbar(range(5), \n",
        "             [y[reviews.Sentiment == i].mean() for i in range(5)],\n",
        "             yerr = [y[reviews.Sentiment == i].std() for i in range(5)],\n",
        "             fmt='.')\n",
        "plt.xlabel(\"Review\")\n",
        "plt.ylabel(\"Prediction\")"
      ],
      "metadata": {
        "id": "eK6Xs6Ak1ZuI"
      },
      "execution_count": null,
      "outputs": []
    },
    {
      "cell_type": "code",
      "source": [
        "[y[reviews.Sentiment == i].mean() for i in range(5)]"
      ],
      "metadata": {
        "id": "c5F0TyW81cl1"
      },
      "execution_count": null,
      "outputs": []
    }
  ]
}