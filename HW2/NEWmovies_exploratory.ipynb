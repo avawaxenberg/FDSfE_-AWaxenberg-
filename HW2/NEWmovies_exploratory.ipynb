{
 "cells": [
  {
   "cell_type": "markdown",
   "metadata": {
    "colab_type": "text",
    "id": "view-in-github"
   },
   "source": [
    "<a href=\"https://colab.research.google.com/github/avawaxenberg/FDSfE_AWaxenberg/blob/main/HW2/NEWmovies_exploratory.ipynb\" target=\"_parent\"><img src=\"https://colab.research.google.com/assets/colab-badge.svg\" alt=\"Open In Colab\"/></a>"
   ]
  },
  {
   "cell_type": "code",
   "execution_count": 1,
   "metadata": {
    "id": "QbB2BTmKusWu"
   },
   "outputs": [],
   "source": [
    "import pandas as pd"
   ]
  },
  {
   "cell_type": "code",
   "execution_count": 2,
   "metadata": {
    "id": "C96ANqFkvmZz"
   },
   "outputs": [],
   "source": [
    "movies = pd.read_csv(\"https://github.com/fedhere/FDSfE_FBianco/blob/main/data/movies_metadata_kaggle.csv.zip?raw=true\", compression = \"zip\")"
   ]
  },
  {
   "cell_type": "code",
   "execution_count": 3,
   "metadata": {
    "colab": {
     "base_uri": "https://localhost:8080/"
    },
    "id": "LnyRKquFQrIw",
    "outputId": "6e448b90-3e36-4a71-d44b-167be5fa75c7"
   },
   "outputs": [
    {
     "name": "stdout",
     "output_type": "stream",
     "text": [
      "the movie dataframe has dimensions\n"
     ]
    }
   ],
   "source": [
    "print(\"the movie dataframe has dimensions\".format(movies.shape))"
   ]
  },
  {
   "cell_type": "markdown",
   "metadata": {},
   "source": [
    "# <mark> WFF </mark> need to actually use string formatting. See the cell below:"
   ]
  },
  {
   "cell_type": "code",
   "execution_count": 4,
   "metadata": {},
   "outputs": [
    {
     "name": "stdout",
     "output_type": "stream",
     "text": [
      "the movie dataframe has dimensions (45454, 25)\n"
     ]
    }
   ],
   "source": [
    "print(\"the movie dataframe has dimensions {}\".format(movies.shape))"
   ]
  },
  {
   "cell_type": "code",
   "execution_count": 5,
   "metadata": {
    "colab": {
     "base_uri": "https://localhost:8080/"
    },
    "id": "pPWnOgT5xYU4",
    "outputId": "c1a6a322-29b3-4359-81da-2c2264e70b71"
   },
   "outputs": [
    {
     "data": {
      "text/plain": [
       "(45454, 25)"
      ]
     },
     "execution_count": 5,
     "metadata": {},
     "output_type": "execute_result"
    }
   ],
   "source": [
    "movies.shape"
   ]
  },
  {
   "cell_type": "code",
   "execution_count": 6,
   "metadata": {
    "id": "HFQ7vKxjj5Ie"
   },
   "outputs": [],
   "source": [
    "nmovies_start = movies.shape[0]"
   ]
  },
  {
   "cell_type": "code",
   "execution_count": 7,
   "metadata": {
    "colab": {
     "base_uri": "https://localhost:8080/"
    },
    "id": "llWJzY3Gq-8h",
    "outputId": "000f5dc1-3bd9-47a2-8bdd-388c4c484f99"
   },
   "outputs": [
    {
     "data": {
      "text/plain": [
       "Index(['adult', 'belongs_to_collection', 'budget', 'genres', 'homepage', 'id',\n",
       "       'imdb_id', 'original_language', 'original_title', 'overview',\n",
       "       'popularity', 'poster_path', 'production_companies',\n",
       "       'production_countries', 'release_date', 'revenue', 'runtime',\n",
       "       'spoken_languages', 'status', 'tagline', 'title', 'video',\n",
       "       'vote_average', 'vote_count', 'earnings'],\n",
       "      dtype='object')"
      ]
     },
     "execution_count": 7,
     "metadata": {},
     "output_type": "execute_result"
    }
   ],
   "source": [
    "movies.columns"
   ]
  },
  {
   "cell_type": "code",
   "execution_count": 8,
   "metadata": {
    "colab": {
     "base_uri": "https://localhost:8080/"
    },
    "id": "qWkgY_sGrEPV",
    "outputId": "7d63ebcd-f445-415d-a30f-989f580cabbf"
   },
   "outputs": [
    {
     "data": {
      "text/plain": [
       "<bound method NDFrame.describe of        adult                              belongs_to_collection      budget  \\\n",
       "0      False  {'id': 10194, 'name': 'Toy Story Collection', ...  30000000.0   \n",
       "1      False                                                NaN  65000000.0   \n",
       "2      False  {'id': 119050, 'name': 'Grumpy Old Men Collect...         0.0   \n",
       "3      False                                                NaN  16000000.0   \n",
       "4      False  {'id': 96871, 'name': 'Father of the Bride Col...         0.0   \n",
       "...      ...                                                ...         ...   \n",
       "45449  False                                                NaN         0.0   \n",
       "45450  False                                                NaN         0.0   \n",
       "45451  False                                                NaN         0.0   \n",
       "45452  False                                                NaN         0.0   \n",
       "45453  False                                                NaN         0.0   \n",
       "\n",
       "                                                  genres  \\\n",
       "0      [{'id': 16, 'name': 'Animation'}, {'id': 35, '...   \n",
       "1      [{'id': 12, 'name': 'Adventure'}, {'id': 14, '...   \n",
       "2      [{'id': 10749, 'name': 'Romance'}, {'id': 35, ...   \n",
       "3      [{'id': 35, 'name': 'Comedy'}, {'id': 18, 'nam...   \n",
       "4                         [{'id': 35, 'name': 'Comedy'}]   \n",
       "...                                                  ...   \n",
       "45449  [{'id': 18, 'name': 'Drama'}, {'id': 10751, 'n...   \n",
       "45450                      [{'id': 18, 'name': 'Drama'}]   \n",
       "45451  [{'id': 28, 'name': 'Action'}, {'id': 18, 'nam...   \n",
       "45452                                                 []   \n",
       "45453                                                 []   \n",
       "\n",
       "                                   homepage      id    imdb_id  \\\n",
       "0      http://toystory.disney.com/toy-story     862  tt0114709   \n",
       "1                                       NaN    8844  tt0113497   \n",
       "2                                       NaN   15602  tt0113228   \n",
       "3                                       NaN   31357  tt0114885   \n",
       "4                                       NaN   11862  tt0113041   \n",
       "...                                     ...     ...        ...   \n",
       "45449  http://www.imdb.com/title/tt6209470/  439050  tt6209470   \n",
       "45450                                   NaN  111109  tt2028550   \n",
       "45451                                   NaN   67758  tt0303758   \n",
       "45452                                   NaN  227506  tt0008536   \n",
       "45453                                   NaN  461257  tt6980792   \n",
       "\n",
       "      original_language               original_title  \\\n",
       "0                    en                    Toy Story   \n",
       "1                    en                      Jumanji   \n",
       "2                    en             Grumpier Old Men   \n",
       "3                    en            Waiting to Exhale   \n",
       "4                    en  Father of the Bride Part II   \n",
       "...                 ...                          ...   \n",
       "45449                fa                      رگ خواب   \n",
       "45450                tl          Siglo ng Pagluluwal   \n",
       "45451                en                     Betrayal   \n",
       "45452                en          Satana likuyushchiy   \n",
       "45453                en                     Queerama   \n",
       "\n",
       "                                                overview  ...      revenue  \\\n",
       "0      Led by Woody, Andy's toys live happily in his ...  ...  373554033.0   \n",
       "1      When siblings Judy and Peter discover an encha...  ...  262797249.0   \n",
       "2      A family wedding reignites the ancient feud be...  ...          0.0   \n",
       "3      Cheated on, mistreated and stepped on, the wom...  ...   81452156.0   \n",
       "4      Just when George Banks has recovered from his ...  ...   76578911.0   \n",
       "...                                                  ...  ...          ...   \n",
       "45449        Rising and falling between a man and woman.  ...          0.0   \n",
       "45450  An artist struggles to finish his work while a...  ...          0.0   \n",
       "45451  When one of her hits goes wrong, a professiona...  ...          0.0   \n",
       "45452  In a small town live two brothers, one a minis...  ...          0.0   \n",
       "45453  50 years after decriminalisation of homosexual...  ...          0.0   \n",
       "\n",
       "      runtime                                   spoken_languages    status  \\\n",
       "0        81.0           [{'iso_639_1': 'en', 'name': 'English'}]  Released   \n",
       "1       104.0  [{'iso_639_1': 'en', 'name': 'English'}, {'iso...  Released   \n",
       "2       101.0           [{'iso_639_1': 'en', 'name': 'English'}]  Released   \n",
       "3       127.0           [{'iso_639_1': 'en', 'name': 'English'}]  Released   \n",
       "4       106.0           [{'iso_639_1': 'en', 'name': 'English'}]  Released   \n",
       "...       ...                                                ...       ...   \n",
       "45449    90.0             [{'iso_639_1': 'fa', 'name': 'فارسی'}]  Released   \n",
       "45450   360.0                  [{'iso_639_1': 'tl', 'name': ''}]  Released   \n",
       "45451    90.0           [{'iso_639_1': 'en', 'name': 'English'}]  Released   \n",
       "45452    87.0                                                 []  Released   \n",
       "45453    75.0           [{'iso_639_1': 'en', 'name': 'English'}]  Released   \n",
       "\n",
       "                                                 tagline  \\\n",
       "0                                                    NaN   \n",
       "1              Roll the dice and unleash the excitement!   \n",
       "2      Still Yelling. Still Fighting. Still Ready for...   \n",
       "3      Friends are the people who let you be yourself...   \n",
       "4      Just When His World Is Back To Normal... He's ...   \n",
       "...                                                  ...   \n",
       "45449         Rising and falling between a man and woman   \n",
       "45450                                                NaN   \n",
       "45451                             A deadly game of wits.   \n",
       "45452                                                NaN   \n",
       "45453                                                NaN   \n",
       "\n",
       "                             title  video vote_average vote_count   earnings  \n",
       "0                        Toy Story  False          7.7     5415.0  12.451801  \n",
       "1                          Jumanji  False          6.9     2413.0   4.043035  \n",
       "2                 Grumpier Old Men  False          6.5       92.0        NaN  \n",
       "3                Waiting to Exhale  False          6.1       34.0   5.090760  \n",
       "4      Father of the Bride Part II  False          5.7      173.0        inf  \n",
       "...                            ...    ...          ...        ...        ...  \n",
       "45449                       Subdue  False          4.0        1.0        NaN  \n",
       "45450          Century of Birthing  False          9.0        3.0        NaN  \n",
       "45451                     Betrayal  False          3.8        6.0        NaN  \n",
       "45452             Satan Triumphant  False          0.0        0.0        NaN  \n",
       "45453                     Queerama  False          0.0        0.0        NaN  \n",
       "\n",
       "[45454 rows x 25 columns]>"
      ]
     },
     "execution_count": 8,
     "metadata": {},
     "output_type": "execute_result"
    }
   ],
   "source": [
    "movies.describe"
   ]
  },
  {
   "cell_type": "code",
   "execution_count": 9,
   "metadata": {
    "colab": {
     "base_uri": "https://localhost:8080/",
     "height": 751
    },
    "id": "t6x_sc7lw65K",
    "outputId": "91ed290a-fe0a-4635-b5e5-7a737bb56d85"
   },
   "outputs": [
    {
     "data": {
      "text/html": [
       "<div>\n",
       "<style scoped>\n",
       "    .dataframe tbody tr th:only-of-type {\n",
       "        vertical-align: middle;\n",
       "    }\n",
       "\n",
       "    .dataframe tbody tr th {\n",
       "        vertical-align: top;\n",
       "    }\n",
       "\n",
       "    .dataframe thead th {\n",
       "        text-align: right;\n",
       "    }\n",
       "</style>\n",
       "<table border=\"1\" class=\"dataframe\">\n",
       "  <thead>\n",
       "    <tr style=\"text-align: right;\">\n",
       "      <th></th>\n",
       "      <th>adult</th>\n",
       "      <th>belongs_to_collection</th>\n",
       "      <th>budget</th>\n",
       "      <th>genres</th>\n",
       "      <th>homepage</th>\n",
       "      <th>id</th>\n",
       "      <th>imdb_id</th>\n",
       "      <th>original_language</th>\n",
       "      <th>original_title</th>\n",
       "      <th>overview</th>\n",
       "      <th>...</th>\n",
       "      <th>revenue</th>\n",
       "      <th>runtime</th>\n",
       "      <th>spoken_languages</th>\n",
       "      <th>status</th>\n",
       "      <th>tagline</th>\n",
       "      <th>title</th>\n",
       "      <th>video</th>\n",
       "      <th>vote_average</th>\n",
       "      <th>vote_count</th>\n",
       "      <th>earnings</th>\n",
       "    </tr>\n",
       "  </thead>\n",
       "  <tbody>\n",
       "    <tr>\n",
       "      <th>0</th>\n",
       "      <td>False</td>\n",
       "      <td>{'id': 10194, 'name': 'Toy Story Collection', ...</td>\n",
       "      <td>30000000.0</td>\n",
       "      <td>[{'id': 16, 'name': 'Animation'}, {'id': 35, '...</td>\n",
       "      <td>http://toystory.disney.com/toy-story</td>\n",
       "      <td>862</td>\n",
       "      <td>tt0114709</td>\n",
       "      <td>en</td>\n",
       "      <td>Toy Story</td>\n",
       "      <td>Led by Woody, Andy's toys live happily in his ...</td>\n",
       "      <td>...</td>\n",
       "      <td>373554033.0</td>\n",
       "      <td>81.0</td>\n",
       "      <td>[{'iso_639_1': 'en', 'name': 'English'}]</td>\n",
       "      <td>Released</td>\n",
       "      <td>NaN</td>\n",
       "      <td>Toy Story</td>\n",
       "      <td>False</td>\n",
       "      <td>7.7</td>\n",
       "      <td>5415.0</td>\n",
       "      <td>12.451801</td>\n",
       "    </tr>\n",
       "    <tr>\n",
       "      <th>1</th>\n",
       "      <td>False</td>\n",
       "      <td>NaN</td>\n",
       "      <td>65000000.0</td>\n",
       "      <td>[{'id': 12, 'name': 'Adventure'}, {'id': 14, '...</td>\n",
       "      <td>NaN</td>\n",
       "      <td>8844</td>\n",
       "      <td>tt0113497</td>\n",
       "      <td>en</td>\n",
       "      <td>Jumanji</td>\n",
       "      <td>When siblings Judy and Peter discover an encha...</td>\n",
       "      <td>...</td>\n",
       "      <td>262797249.0</td>\n",
       "      <td>104.0</td>\n",
       "      <td>[{'iso_639_1': 'en', 'name': 'English'}, {'iso...</td>\n",
       "      <td>Released</td>\n",
       "      <td>Roll the dice and unleash the excitement!</td>\n",
       "      <td>Jumanji</td>\n",
       "      <td>False</td>\n",
       "      <td>6.9</td>\n",
       "      <td>2413.0</td>\n",
       "      <td>4.043035</td>\n",
       "    </tr>\n",
       "    <tr>\n",
       "      <th>2</th>\n",
       "      <td>False</td>\n",
       "      <td>{'id': 119050, 'name': 'Grumpy Old Men Collect...</td>\n",
       "      <td>0.0</td>\n",
       "      <td>[{'id': 10749, 'name': 'Romance'}, {'id': 35, ...</td>\n",
       "      <td>NaN</td>\n",
       "      <td>15602</td>\n",
       "      <td>tt0113228</td>\n",
       "      <td>en</td>\n",
       "      <td>Grumpier Old Men</td>\n",
       "      <td>A family wedding reignites the ancient feud be...</td>\n",
       "      <td>...</td>\n",
       "      <td>0.0</td>\n",
       "      <td>101.0</td>\n",
       "      <td>[{'iso_639_1': 'en', 'name': 'English'}]</td>\n",
       "      <td>Released</td>\n",
       "      <td>Still Yelling. Still Fighting. Still Ready for...</td>\n",
       "      <td>Grumpier Old Men</td>\n",
       "      <td>False</td>\n",
       "      <td>6.5</td>\n",
       "      <td>92.0</td>\n",
       "      <td>NaN</td>\n",
       "    </tr>\n",
       "    <tr>\n",
       "      <th>3</th>\n",
       "      <td>False</td>\n",
       "      <td>NaN</td>\n",
       "      <td>16000000.0</td>\n",
       "      <td>[{'id': 35, 'name': 'Comedy'}, {'id': 18, 'nam...</td>\n",
       "      <td>NaN</td>\n",
       "      <td>31357</td>\n",
       "      <td>tt0114885</td>\n",
       "      <td>en</td>\n",
       "      <td>Waiting to Exhale</td>\n",
       "      <td>Cheated on, mistreated and stepped on, the wom...</td>\n",
       "      <td>...</td>\n",
       "      <td>81452156.0</td>\n",
       "      <td>127.0</td>\n",
       "      <td>[{'iso_639_1': 'en', 'name': 'English'}]</td>\n",
       "      <td>Released</td>\n",
       "      <td>Friends are the people who let you be yourself...</td>\n",
       "      <td>Waiting to Exhale</td>\n",
       "      <td>False</td>\n",
       "      <td>6.1</td>\n",
       "      <td>34.0</td>\n",
       "      <td>5.090760</td>\n",
       "    </tr>\n",
       "    <tr>\n",
       "      <th>4</th>\n",
       "      <td>False</td>\n",
       "      <td>{'id': 96871, 'name': 'Father of the Bride Col...</td>\n",
       "      <td>0.0</td>\n",
       "      <td>[{'id': 35, 'name': 'Comedy'}]</td>\n",
       "      <td>NaN</td>\n",
       "      <td>11862</td>\n",
       "      <td>tt0113041</td>\n",
       "      <td>en</td>\n",
       "      <td>Father of the Bride Part II</td>\n",
       "      <td>Just when George Banks has recovered from his ...</td>\n",
       "      <td>...</td>\n",
       "      <td>76578911.0</td>\n",
       "      <td>106.0</td>\n",
       "      <td>[{'iso_639_1': 'en', 'name': 'English'}]</td>\n",
       "      <td>Released</td>\n",
       "      <td>Just When His World Is Back To Normal... He's ...</td>\n",
       "      <td>Father of the Bride Part II</td>\n",
       "      <td>False</td>\n",
       "      <td>5.7</td>\n",
       "      <td>173.0</td>\n",
       "      <td>inf</td>\n",
       "    </tr>\n",
       "  </tbody>\n",
       "</table>\n",
       "<p>5 rows × 25 columns</p>\n",
       "</div>"
      ],
      "text/plain": [
       "   adult                              belongs_to_collection      budget  \\\n",
       "0  False  {'id': 10194, 'name': 'Toy Story Collection', ...  30000000.0   \n",
       "1  False                                                NaN  65000000.0   \n",
       "2  False  {'id': 119050, 'name': 'Grumpy Old Men Collect...         0.0   \n",
       "3  False                                                NaN  16000000.0   \n",
       "4  False  {'id': 96871, 'name': 'Father of the Bride Col...         0.0   \n",
       "\n",
       "                                              genres  \\\n",
       "0  [{'id': 16, 'name': 'Animation'}, {'id': 35, '...   \n",
       "1  [{'id': 12, 'name': 'Adventure'}, {'id': 14, '...   \n",
       "2  [{'id': 10749, 'name': 'Romance'}, {'id': 35, ...   \n",
       "3  [{'id': 35, 'name': 'Comedy'}, {'id': 18, 'nam...   \n",
       "4                     [{'id': 35, 'name': 'Comedy'}]   \n",
       "\n",
       "                               homepage     id    imdb_id original_language  \\\n",
       "0  http://toystory.disney.com/toy-story    862  tt0114709                en   \n",
       "1                                   NaN   8844  tt0113497                en   \n",
       "2                                   NaN  15602  tt0113228                en   \n",
       "3                                   NaN  31357  tt0114885                en   \n",
       "4                                   NaN  11862  tt0113041                en   \n",
       "\n",
       "                original_title  \\\n",
       "0                    Toy Story   \n",
       "1                      Jumanji   \n",
       "2             Grumpier Old Men   \n",
       "3            Waiting to Exhale   \n",
       "4  Father of the Bride Part II   \n",
       "\n",
       "                                            overview  ...      revenue  \\\n",
       "0  Led by Woody, Andy's toys live happily in his ...  ...  373554033.0   \n",
       "1  When siblings Judy and Peter discover an encha...  ...  262797249.0   \n",
       "2  A family wedding reignites the ancient feud be...  ...          0.0   \n",
       "3  Cheated on, mistreated and stepped on, the wom...  ...   81452156.0   \n",
       "4  Just when George Banks has recovered from his ...  ...   76578911.0   \n",
       "\n",
       "  runtime                                   spoken_languages    status  \\\n",
       "0    81.0           [{'iso_639_1': 'en', 'name': 'English'}]  Released   \n",
       "1   104.0  [{'iso_639_1': 'en', 'name': 'English'}, {'iso...  Released   \n",
       "2   101.0           [{'iso_639_1': 'en', 'name': 'English'}]  Released   \n",
       "3   127.0           [{'iso_639_1': 'en', 'name': 'English'}]  Released   \n",
       "4   106.0           [{'iso_639_1': 'en', 'name': 'English'}]  Released   \n",
       "\n",
       "                                             tagline  \\\n",
       "0                                                NaN   \n",
       "1          Roll the dice and unleash the excitement!   \n",
       "2  Still Yelling. Still Fighting. Still Ready for...   \n",
       "3  Friends are the people who let you be yourself...   \n",
       "4  Just When His World Is Back To Normal... He's ...   \n",
       "\n",
       "                         title  video vote_average vote_count   earnings  \n",
       "0                    Toy Story  False          7.7     5415.0  12.451801  \n",
       "1                      Jumanji  False          6.9     2413.0   4.043035  \n",
       "2             Grumpier Old Men  False          6.5       92.0        NaN  \n",
       "3            Waiting to Exhale  False          6.1       34.0   5.090760  \n",
       "4  Father of the Bride Part II  False          5.7      173.0        inf  \n",
       "\n",
       "[5 rows x 25 columns]"
      ]
     },
     "execution_count": 9,
     "metadata": {},
     "output_type": "execute_result"
    }
   ],
   "source": [
    "movies.head()"
   ]
  },
  {
   "cell_type": "code",
   "execution_count": 10,
   "metadata": {
    "colab": {
     "base_uri": "https://localhost:8080/",
     "height": 612
    },
    "id": "I6j58f4wxG36",
    "outputId": "35829d9b-e258-4119-8bcd-34976964caa8"
   },
   "outputs": [
    {
     "data": {
      "text/html": [
       "<div>\n",
       "<style scoped>\n",
       "    .dataframe tbody tr th:only-of-type {\n",
       "        vertical-align: middle;\n",
       "    }\n",
       "\n",
       "    .dataframe tbody tr th {\n",
       "        vertical-align: top;\n",
       "    }\n",
       "\n",
       "    .dataframe thead th {\n",
       "        text-align: right;\n",
       "    }\n",
       "</style>\n",
       "<table border=\"1\" class=\"dataframe\">\n",
       "  <thead>\n",
       "    <tr style=\"text-align: right;\">\n",
       "      <th></th>\n",
       "      <th>adult</th>\n",
       "      <th>belongs_to_collection</th>\n",
       "      <th>budget</th>\n",
       "      <th>genres</th>\n",
       "      <th>homepage</th>\n",
       "      <th>id</th>\n",
       "      <th>imdb_id</th>\n",
       "      <th>original_language</th>\n",
       "      <th>original_title</th>\n",
       "      <th>overview</th>\n",
       "      <th>...</th>\n",
       "      <th>revenue</th>\n",
       "      <th>runtime</th>\n",
       "      <th>spoken_languages</th>\n",
       "      <th>status</th>\n",
       "      <th>tagline</th>\n",
       "      <th>title</th>\n",
       "      <th>video</th>\n",
       "      <th>vote_average</th>\n",
       "      <th>vote_count</th>\n",
       "      <th>earnings</th>\n",
       "    </tr>\n",
       "  </thead>\n",
       "  <tbody>\n",
       "    <tr>\n",
       "      <th>45449</th>\n",
       "      <td>False</td>\n",
       "      <td>NaN</td>\n",
       "      <td>0.0</td>\n",
       "      <td>[{'id': 18, 'name': 'Drama'}, {'id': 10751, 'n...</td>\n",
       "      <td>http://www.imdb.com/title/tt6209470/</td>\n",
       "      <td>439050</td>\n",
       "      <td>tt6209470</td>\n",
       "      <td>fa</td>\n",
       "      <td>رگ خواب</td>\n",
       "      <td>Rising and falling between a man and woman.</td>\n",
       "      <td>...</td>\n",
       "      <td>0.0</td>\n",
       "      <td>90.0</td>\n",
       "      <td>[{'iso_639_1': 'fa', 'name': 'فارسی'}]</td>\n",
       "      <td>Released</td>\n",
       "      <td>Rising and falling between a man and woman</td>\n",
       "      <td>Subdue</td>\n",
       "      <td>False</td>\n",
       "      <td>4.0</td>\n",
       "      <td>1.0</td>\n",
       "      <td>NaN</td>\n",
       "    </tr>\n",
       "    <tr>\n",
       "      <th>45450</th>\n",
       "      <td>False</td>\n",
       "      <td>NaN</td>\n",
       "      <td>0.0</td>\n",
       "      <td>[{'id': 18, 'name': 'Drama'}]</td>\n",
       "      <td>NaN</td>\n",
       "      <td>111109</td>\n",
       "      <td>tt2028550</td>\n",
       "      <td>tl</td>\n",
       "      <td>Siglo ng Pagluluwal</td>\n",
       "      <td>An artist struggles to finish his work while a...</td>\n",
       "      <td>...</td>\n",
       "      <td>0.0</td>\n",
       "      <td>360.0</td>\n",
       "      <td>[{'iso_639_1': 'tl', 'name': ''}]</td>\n",
       "      <td>Released</td>\n",
       "      <td>NaN</td>\n",
       "      <td>Century of Birthing</td>\n",
       "      <td>False</td>\n",
       "      <td>9.0</td>\n",
       "      <td>3.0</td>\n",
       "      <td>NaN</td>\n",
       "    </tr>\n",
       "    <tr>\n",
       "      <th>45451</th>\n",
       "      <td>False</td>\n",
       "      <td>NaN</td>\n",
       "      <td>0.0</td>\n",
       "      <td>[{'id': 28, 'name': 'Action'}, {'id': 18, 'nam...</td>\n",
       "      <td>NaN</td>\n",
       "      <td>67758</td>\n",
       "      <td>tt0303758</td>\n",
       "      <td>en</td>\n",
       "      <td>Betrayal</td>\n",
       "      <td>When one of her hits goes wrong, a professiona...</td>\n",
       "      <td>...</td>\n",
       "      <td>0.0</td>\n",
       "      <td>90.0</td>\n",
       "      <td>[{'iso_639_1': 'en', 'name': 'English'}]</td>\n",
       "      <td>Released</td>\n",
       "      <td>A deadly game of wits.</td>\n",
       "      <td>Betrayal</td>\n",
       "      <td>False</td>\n",
       "      <td>3.8</td>\n",
       "      <td>6.0</td>\n",
       "      <td>NaN</td>\n",
       "    </tr>\n",
       "    <tr>\n",
       "      <th>45452</th>\n",
       "      <td>False</td>\n",
       "      <td>NaN</td>\n",
       "      <td>0.0</td>\n",
       "      <td>[]</td>\n",
       "      <td>NaN</td>\n",
       "      <td>227506</td>\n",
       "      <td>tt0008536</td>\n",
       "      <td>en</td>\n",
       "      <td>Satana likuyushchiy</td>\n",
       "      <td>In a small town live two brothers, one a minis...</td>\n",
       "      <td>...</td>\n",
       "      <td>0.0</td>\n",
       "      <td>87.0</td>\n",
       "      <td>[]</td>\n",
       "      <td>Released</td>\n",
       "      <td>NaN</td>\n",
       "      <td>Satan Triumphant</td>\n",
       "      <td>False</td>\n",
       "      <td>0.0</td>\n",
       "      <td>0.0</td>\n",
       "      <td>NaN</td>\n",
       "    </tr>\n",
       "    <tr>\n",
       "      <th>45453</th>\n",
       "      <td>False</td>\n",
       "      <td>NaN</td>\n",
       "      <td>0.0</td>\n",
       "      <td>[]</td>\n",
       "      <td>NaN</td>\n",
       "      <td>461257</td>\n",
       "      <td>tt6980792</td>\n",
       "      <td>en</td>\n",
       "      <td>Queerama</td>\n",
       "      <td>50 years after decriminalisation of homosexual...</td>\n",
       "      <td>...</td>\n",
       "      <td>0.0</td>\n",
       "      <td>75.0</td>\n",
       "      <td>[{'iso_639_1': 'en', 'name': 'English'}]</td>\n",
       "      <td>Released</td>\n",
       "      <td>NaN</td>\n",
       "      <td>Queerama</td>\n",
       "      <td>False</td>\n",
       "      <td>0.0</td>\n",
       "      <td>0.0</td>\n",
       "      <td>NaN</td>\n",
       "    </tr>\n",
       "  </tbody>\n",
       "</table>\n",
       "<p>5 rows × 25 columns</p>\n",
       "</div>"
      ],
      "text/plain": [
       "       adult belongs_to_collection  budget  \\\n",
       "45449  False                   NaN     0.0   \n",
       "45450  False                   NaN     0.0   \n",
       "45451  False                   NaN     0.0   \n",
       "45452  False                   NaN     0.0   \n",
       "45453  False                   NaN     0.0   \n",
       "\n",
       "                                                  genres  \\\n",
       "45449  [{'id': 18, 'name': 'Drama'}, {'id': 10751, 'n...   \n",
       "45450                      [{'id': 18, 'name': 'Drama'}]   \n",
       "45451  [{'id': 28, 'name': 'Action'}, {'id': 18, 'nam...   \n",
       "45452                                                 []   \n",
       "45453                                                 []   \n",
       "\n",
       "                                   homepage      id    imdb_id  \\\n",
       "45449  http://www.imdb.com/title/tt6209470/  439050  tt6209470   \n",
       "45450                                   NaN  111109  tt2028550   \n",
       "45451                                   NaN   67758  tt0303758   \n",
       "45452                                   NaN  227506  tt0008536   \n",
       "45453                                   NaN  461257  tt6980792   \n",
       "\n",
       "      original_language       original_title  \\\n",
       "45449                fa              رگ خواب   \n",
       "45450                tl  Siglo ng Pagluluwal   \n",
       "45451                en             Betrayal   \n",
       "45452                en  Satana likuyushchiy   \n",
       "45453                en             Queerama   \n",
       "\n",
       "                                                overview  ...  revenue  \\\n",
       "45449        Rising and falling between a man and woman.  ...      0.0   \n",
       "45450  An artist struggles to finish his work while a...  ...      0.0   \n",
       "45451  When one of her hits goes wrong, a professiona...  ...      0.0   \n",
       "45452  In a small town live two brothers, one a minis...  ...      0.0   \n",
       "45453  50 years after decriminalisation of homosexual...  ...      0.0   \n",
       "\n",
       "      runtime                          spoken_languages    status  \\\n",
       "45449    90.0    [{'iso_639_1': 'fa', 'name': 'فارسی'}]  Released   \n",
       "45450   360.0         [{'iso_639_1': 'tl', 'name': ''}]  Released   \n",
       "45451    90.0  [{'iso_639_1': 'en', 'name': 'English'}]  Released   \n",
       "45452    87.0                                        []  Released   \n",
       "45453    75.0  [{'iso_639_1': 'en', 'name': 'English'}]  Released   \n",
       "\n",
       "                                          tagline                title  video  \\\n",
       "45449  Rising and falling between a man and woman               Subdue  False   \n",
       "45450                                         NaN  Century of Birthing  False   \n",
       "45451                      A deadly game of wits.             Betrayal  False   \n",
       "45452                                         NaN     Satan Triumphant  False   \n",
       "45453                                         NaN             Queerama  False   \n",
       "\n",
       "      vote_average vote_count earnings  \n",
       "45449          4.0        1.0      NaN  \n",
       "45450          9.0        3.0      NaN  \n",
       "45451          3.8        6.0      NaN  \n",
       "45452          0.0        0.0      NaN  \n",
       "45453          0.0        0.0      NaN  \n",
       "\n",
       "[5 rows x 25 columns]"
      ]
     },
     "execution_count": 10,
     "metadata": {},
     "output_type": "execute_result"
    }
   ],
   "source": [
    "movies.tail()"
   ]
  },
  {
   "cell_type": "code",
   "execution_count": 11,
   "metadata": {
    "colab": {
     "base_uri": "https://localhost:8080/",
     "height": 300
    },
    "id": "YdrdNb0LxMdX",
    "outputId": "923376de-8834-45c5-f51a-88303c893626"
   },
   "outputs": [
    {
     "data": {
      "text/html": [
       "<div>\n",
       "<style scoped>\n",
       "    .dataframe tbody tr th:only-of-type {\n",
       "        vertical-align: middle;\n",
       "    }\n",
       "\n",
       "    .dataframe tbody tr th {\n",
       "        vertical-align: top;\n",
       "    }\n",
       "\n",
       "    .dataframe thead th {\n",
       "        text-align: right;\n",
       "    }\n",
       "</style>\n",
       "<table border=\"1\" class=\"dataframe\">\n",
       "  <thead>\n",
       "    <tr style=\"text-align: right;\">\n",
       "      <th></th>\n",
       "      <th>budget</th>\n",
       "      <th>id</th>\n",
       "      <th>popularity</th>\n",
       "      <th>revenue</th>\n",
       "      <th>vote_average</th>\n",
       "      <th>vote_count</th>\n",
       "      <th>earnings</th>\n",
       "    </tr>\n",
       "  </thead>\n",
       "  <tbody>\n",
       "    <tr>\n",
       "      <th>count</th>\n",
       "      <td>4.545400e+04</td>\n",
       "      <td>45454.000000</td>\n",
       "      <td>45451.000000</td>\n",
       "      <td>4.545100e+04</td>\n",
       "      <td>45451.000000</td>\n",
       "      <td>45451.000000</td>\n",
       "      <td>1.091600e+04</td>\n",
       "    </tr>\n",
       "    <tr>\n",
       "      <th>mean</th>\n",
       "      <td>4.225399e+06</td>\n",
       "      <td>108348.389075</td>\n",
       "      <td>2.921765</td>\n",
       "      <td>1.121157e+07</td>\n",
       "      <td>5.618543</td>\n",
       "      <td>109.917538</td>\n",
       "      <td>inf</td>\n",
       "    </tr>\n",
       "    <tr>\n",
       "      <th>std</th>\n",
       "      <td>1.742576e+07</td>\n",
       "      <td>112445.975875</td>\n",
       "      <td>6.005910</td>\n",
       "      <td>6.433842e+07</td>\n",
       "      <td>1.924085</td>\n",
       "      <td>491.356914</td>\n",
       "      <td>NaN</td>\n",
       "    </tr>\n",
       "    <tr>\n",
       "      <th>min</th>\n",
       "      <td>0.000000e+00</td>\n",
       "      <td>2.000000</td>\n",
       "      <td>0.000000</td>\n",
       "      <td>0.000000e+00</td>\n",
       "      <td>0.000000</td>\n",
       "      <td>0.000000</td>\n",
       "      <td>0.000000e+00</td>\n",
       "    </tr>\n",
       "    <tr>\n",
       "      <th>25%</th>\n",
       "      <td>0.000000e+00</td>\n",
       "      <td>26447.500000</td>\n",
       "      <td>0.385945</td>\n",
       "      <td>0.000000e+00</td>\n",
       "      <td>5.000000</td>\n",
       "      <td>3.000000</td>\n",
       "      <td>0.000000e+00</td>\n",
       "    </tr>\n",
       "    <tr>\n",
       "      <th>50%</th>\n",
       "      <td>0.000000e+00</td>\n",
       "      <td>60004.000000</td>\n",
       "      <td>1.127613</td>\n",
       "      <td>0.000000e+00</td>\n",
       "      <td>6.000000</td>\n",
       "      <td>10.000000</td>\n",
       "      <td>1.273533e+00</td>\n",
       "    </tr>\n",
       "    <tr>\n",
       "      <th>75%</th>\n",
       "      <td>0.000000e+00</td>\n",
       "      <td>157304.000000</td>\n",
       "      <td>3.679334</td>\n",
       "      <td>0.000000e+00</td>\n",
       "      <td>6.800000</td>\n",
       "      <td>34.000000</td>\n",
       "      <td>7.267308e+00</td>\n",
       "    </tr>\n",
       "    <tr>\n",
       "      <th>max</th>\n",
       "      <td>3.800000e+08</td>\n",
       "      <td>469172.000000</td>\n",
       "      <td>547.488298</td>\n",
       "      <td>2.787965e+09</td>\n",
       "      <td>10.000000</td>\n",
       "      <td>14075.000000</td>\n",
       "      <td>inf</td>\n",
       "    </tr>\n",
       "  </tbody>\n",
       "</table>\n",
       "</div>"
      ],
      "text/plain": [
       "             budget             id    popularity       revenue  vote_average  \\\n",
       "count  4.545400e+04   45454.000000  45451.000000  4.545100e+04  45451.000000   \n",
       "mean   4.225399e+06  108348.389075      2.921765  1.121157e+07      5.618543   \n",
       "std    1.742576e+07  112445.975875      6.005910  6.433842e+07      1.924085   \n",
       "min    0.000000e+00       2.000000      0.000000  0.000000e+00      0.000000   \n",
       "25%    0.000000e+00   26447.500000      0.385945  0.000000e+00      5.000000   \n",
       "50%    0.000000e+00   60004.000000      1.127613  0.000000e+00      6.000000   \n",
       "75%    0.000000e+00  157304.000000      3.679334  0.000000e+00      6.800000   \n",
       "max    3.800000e+08  469172.000000    547.488298  2.787965e+09     10.000000   \n",
       "\n",
       "         vote_count      earnings  \n",
       "count  45451.000000  1.091600e+04  \n",
       "mean     109.917538           inf  \n",
       "std      491.356914           NaN  \n",
       "min        0.000000  0.000000e+00  \n",
       "25%        3.000000  0.000000e+00  \n",
       "50%       10.000000  1.273533e+00  \n",
       "75%       34.000000  7.267308e+00  \n",
       "max    14075.000000           inf  "
      ]
     },
     "execution_count": 11,
     "metadata": {},
     "output_type": "execute_result"
    }
   ],
   "source": [
    "movies.describe()"
   ]
  },
  {
   "cell_type": "code",
   "execution_count": 12,
   "metadata": {
    "colab": {
     "base_uri": "https://localhost:8080/"
    },
    "id": "5UYGvJYGx37O",
    "outputId": "e2d69352-e565-4637-c5f8-01b9f0cea626"
   },
   "outputs": [
    {
     "data": {
      "text/plain": [
       "adult                        0\n",
       "belongs_to_collection    40963\n",
       "budget                       0\n",
       "genres                       0\n",
       "homepage                 37677\n",
       "id                           0\n",
       "imdb_id                     17\n",
       "original_language           11\n",
       "original_title               0\n",
       "overview                   954\n",
       "popularity                   3\n",
       "poster_path                386\n",
       "production_companies         3\n",
       "production_countries         3\n",
       "release_date                86\n",
       "revenue                      3\n",
       "runtime                      0\n",
       "spoken_languages             3\n",
       "status                      84\n",
       "tagline                  25048\n",
       "title                        3\n",
       "video                        3\n",
       "vote_average                 3\n",
       "vote_count                   3\n",
       "earnings                 34538\n",
       "dtype: int64"
      ]
     },
     "execution_count": 12,
     "metadata": {},
     "output_type": "execute_result"
    }
   ],
   "source": [
    "movies.isna().sum(axis=0)"
   ]
  },
  {
   "cell_type": "code",
   "execution_count": 13,
   "metadata": {
    "id": "mUu04dH-y3T1"
   },
   "outputs": [],
   "source": [
    "initial_size = movies.shape[0]"
   ]
  },
  {
   "cell_type": "code",
   "execution_count": 14,
   "metadata": {
    "colab": {
     "base_uri": "https://localhost:8080/"
    },
    "id": "frY-3xeLzX6x",
    "outputId": "733ab2f7-c4af-40a4-df53-616798a9608f"
   },
   "outputs": [
    {
     "name": "stdout",
     "output_type": "stream",
     "text": [
      "<class 'pandas.core.frame.DataFrame'>\n",
      "RangeIndex: 45454 entries, 0 to 45453\n",
      "Data columns (total 25 columns):\n",
      " #   Column                 Non-Null Count  Dtype  \n",
      "---  ------                 --------------  -----  \n",
      " 0   adult                  45454 non-null  bool   \n",
      " 1   belongs_to_collection  4491 non-null   object \n",
      " 2   budget                 45454 non-null  float64\n",
      " 3   genres                 45454 non-null  object \n",
      " 4   homepage               7777 non-null   object \n",
      " 5   id                     45454 non-null  int64  \n",
      " 6   imdb_id                45437 non-null  object \n",
      " 7   original_language      45443 non-null  object \n",
      " 8   original_title         45454 non-null  object \n",
      " 9   overview               44500 non-null  object \n",
      " 10  popularity             45451 non-null  float64\n",
      " 11  poster_path            45068 non-null  object \n",
      " 12  production_companies   45451 non-null  object \n",
      " 13  production_countries   45451 non-null  object \n",
      " 14  release_date           45368 non-null  object \n",
      " 15  revenue                45451 non-null  float64\n",
      " 16  runtime                45454 non-null  object \n",
      " 17  spoken_languages       45451 non-null  object \n",
      " 18  status                 45370 non-null  object \n",
      " 19  tagline                20406 non-null  object \n",
      " 20  title                  45451 non-null  object \n",
      " 21  video                  45451 non-null  object \n",
      " 22  vote_average           45451 non-null  float64\n",
      " 23  vote_count             45451 non-null  float64\n",
      " 24  earnings               10916 non-null  float64\n",
      "dtypes: bool(1), float64(6), int64(1), object(17)\n",
      "memory usage: 8.4+ MB\n"
     ]
    }
   ],
   "source": [
    "movies.info()"
   ]
  },
  {
   "cell_type": "markdown",
   "metadata": {},
   "source": [
    "# <mark> WFF </mark> Here we are missing an actual answer to our questions: why are the count values different for some of the columns, and how many missing values are in the runtime column."
   ]
  },
  {
   "cell_type": "code",
   "execution_count": 15,
   "metadata": {
    "colab": {
     "base_uri": "https://localhost:8080/",
     "height": 588
    },
    "id": "droeqLHFyQjP",
    "outputId": "39ac08a2-4d99-47ba-fec4-e5f2675192dd"
   },
   "outputs": [
    {
     "ename": "ModuleNotFoundError",
     "evalue": "No module named 'missingno'",
     "output_type": "error",
     "traceback": [
      "\u001b[0;31m---------------------------------------------------------------------------\u001b[0m",
      "\u001b[0;31mModuleNotFoundError\u001b[0m                       Traceback (most recent call last)",
      "\u001b[0;32m<ipython-input-15-11754914efa9>\u001b[0m in \u001b[0;36m<module>\u001b[0;34m\u001b[0m\n\u001b[0;32m----> 1\u001b[0;31m \u001b[0;32mimport\u001b[0m \u001b[0mmissingno\u001b[0m \u001b[0;32mas\u001b[0m \u001b[0mmsno\u001b[0m\u001b[0;34m\u001b[0m\u001b[0;34m\u001b[0m\u001b[0m\n\u001b[0m\u001b[1;32m      2\u001b[0m \u001b[0mmsno\u001b[0m\u001b[0;34m.\u001b[0m\u001b[0mmatrix\u001b[0m\u001b[0;34m(\u001b[0m\u001b[0mmovies\u001b[0m\u001b[0;34m)\u001b[0m\u001b[0;34m\u001b[0m\u001b[0;34m\u001b[0m\u001b[0m\n",
      "\u001b[0;31mModuleNotFoundError\u001b[0m: No module named 'missingno'"
     ]
    }
   ],
   "source": [
    "import missingno as msno\n",
    "msno.matrix(movies)"
   ]
  },
  {
   "cell_type": "markdown",
   "metadata": {},
   "source": [
    "# <mark> WFF </mark> Missing a figure caption here"
   ]
  },
  {
   "cell_type": "code",
   "execution_count": null,
   "metadata": {
    "colab": {
     "base_uri": "https://localhost:8080/"
    },
    "id": "_LetlwBWzL1S",
    "outputId": "5dd7eab5-0ab3-4a64-9b29-a1dd8d1aaea2"
   },
   "outputs": [],
   "source": [
    "movies.columns"
   ]
  },
  {
   "cell_type": "code",
   "execution_count": null,
   "metadata": {
    "id": "PCxaGRqOyjfB"
   },
   "outputs": [],
   "source": [
    "movies.drop(['belongs_to_collection', 'homepage', 'tagline'], axis=1, inplace=True)"
   ]
  },
  {
   "cell_type": "code",
   "execution_count": null,
   "metadata": {
    "colab": {
     "base_uri": "https://localhost:8080/",
     "height": 1000
    },
    "id": "IuctS06X0rmj",
    "outputId": "581bfe63-ebbf-4468-c1e9-7707ce6e654e"
   },
   "outputs": [],
   "source": [
    "movies.dropna()"
   ]
  },
  {
   "cell_type": "code",
   "execution_count": null,
   "metadata": {
    "id": "oCI42vocWCXu"
   },
   "outputs": [],
   "source": [
    "movies.dropna(subset = [\"popularity\"], inplace = True)"
   ]
  },
  {
   "cell_type": "code",
   "execution_count": null,
   "metadata": {
    "colab": {
     "base_uri": "https://localhost:8080/"
    },
    "id": "kwr9ukO1Z8rT",
    "outputId": "bdfbef7d-dd74-4899-cb98-4629abaddba7"
   },
   "outputs": [],
   "source": [
    "movies[\"popularity\"].max()"
   ]
  },
  {
   "cell_type": "code",
   "execution_count": null,
   "metadata": {
    "colab": {
     "base_uri": "https://localhost:8080/"
    },
    "id": "032MDFnQY2c3",
    "outputId": "cd74d9bf-37d7-46d6-aa22-da1639f1ca0d"
   },
   "outputs": [],
   "source": [
    "movies[\"popularity\"] == movies[\"popularity\"].max()"
   ]
  },
  {
   "cell_type": "markdown",
   "metadata": {},
   "source": [
    "# <mark> WFF </mark> We also asked you to ensure that the values dropped with the dropna method were actually removed."
   ]
  },
  {
   "cell_type": "code",
   "execution_count": null,
   "metadata": {
    "colab": {
     "base_uri": "https://localhost:8080/",
     "height": 278
    },
    "id": "GrMl0LXvaQkQ",
    "outputId": "3c698423-b75d-4b8b-d623-5dc25bcb0fbb"
   },
   "outputs": [],
   "source": [
    "movies[movies[\"popularity\"] == movies[\"popularity\"].max()]"
   ]
  },
  {
   "cell_type": "code",
   "execution_count": null,
   "metadata": {
    "colab": {
     "base_uri": "https://localhost:8080/",
     "height": 1000
    },
    "id": "Uv4xa71QWMRT",
    "outputId": "6c9945b2-8c60-4796-abf7-11f11c48e7e6"
   },
   "outputs": [],
   "source": [
    "mostpop = movies \n",
    "mostpop"
   ]
  },
  {
   "cell_type": "markdown",
   "metadata": {
    "id": "k8cBOcS9c9jj"
   },
   "source": [
    "df = dataframe "
   ]
  },
  {
   "cell_type": "code",
   "execution_count": null,
   "metadata": {
    "id": "BkJzamj_aaIH"
   },
   "outputs": [],
   "source": [
    "df = pd.read_csv(\"https://github.com/fedhere/FDSfE_FBianco/blob/main/data/movies_metadata_kaggle.csv.zip?raw=true\", compression = \"zip\")"
   ]
  },
  {
   "cell_type": "code",
   "execution_count": null,
   "metadata": {
    "colab": {
     "base_uri": "https://localhost:8080/"
    },
    "id": "sbS7Zd0Eav_l",
    "outputId": "daec2338-357a-459b-d9f2-a55c721b7c2d"
   },
   "outputs": [],
   "source": [
    "df[\"popularity\"].max()"
   ]
  },
  {
   "cell_type": "code",
   "execution_count": null,
   "metadata": {
    "colab": {
     "base_uri": "https://localhost:8080/"
    },
    "id": "YYDNS1NZb3mB",
    "outputId": "ac1714cb-7930-45a9-e59d-550f26835a00"
   },
   "outputs": [],
   "source": [
    "df[\"popularity\"] == df[\"popularity\"].max()"
   ]
  },
  {
   "cell_type": "code",
   "execution_count": null,
   "metadata": {
    "id": "TBlSJSydcBHI"
   },
   "outputs": [],
   "source": [
    "mask = df[\"popularity\"] == df[\"popularity\"].max()"
   ]
  },
  {
   "cell_type": "code",
   "execution_count": null,
   "metadata": {
    "id": "RjR3xYWrcFrQ"
   },
   "outputs": [],
   "source": [
    "most_popular_movie = df[mask][\"original_title\"].values[0]"
   ]
  },
  {
   "cell_type": "code",
   "execution_count": null,
   "metadata": {
    "colab": {
     "base_uri": "https://localhost:8080/"
    },
    "id": "BpnwZJ6HcVpt",
    "outputId": "5c8de526-6476-460b-a910-6aa253dce190"
   },
   "outputs": [],
   "source": [
    "print(f\"The most popular movie in this dataset is {most_popular_movie}\")"
   ]
  },
  {
   "cell_type": "code",
   "execution_count": null,
   "metadata": {
    "id": "1vJir_pacoyN"
   },
   "outputs": [],
   "source": [
    "mask = df[\"popularity\"] == df[\"popularity\"].min()"
   ]
  },
  {
   "cell_type": "markdown",
   "metadata": {
    "id": "D7UW8s2xdwth"
   },
   "source": [
    "Least popular movie "
   ]
  },
  {
   "cell_type": "code",
   "execution_count": null,
   "metadata": {
    "id": "_MadsvmTdeWd"
   },
   "outputs": [],
   "source": [
    "least_popular_movie = df[mask][\"original_title\"].values[0]"
   ]
  },
  {
   "cell_type": "code",
   "execution_count": null,
   "metadata": {
    "colab": {
     "base_uri": "https://localhost:8080/"
    },
    "id": "28Xv0y3XdiBt",
    "outputId": "cf1e2d7a-e8bb-4229-d104-654b9fe786bf"
   },
   "outputs": [],
   "source": [
    "print(f\"The least popular movie in this dataset is {least_popular_movie}\")"
   ]
  },
  {
   "cell_type": "code",
   "execution_count": null,
   "metadata": {
    "id": "uKmxGSexdoNt"
   },
   "outputs": [],
   "source": [
    "mask = df[\"runtime\"] == df[\"runtime\"].max()"
   ]
  },
  {
   "cell_type": "code",
   "execution_count": null,
   "metadata": {
    "colab": {
     "base_uri": "https://localhost:8080/",
     "height": 35
    },
    "id": "6uOw2g38eE42",
    "outputId": "320b12ab-fd52-430f-f4ad-59bf5a8e4739"
   },
   "outputs": [],
   "source": [
    "longest_movie = df[mask][\"original_title\"].values[0]\n",
    "longest_movie"
   ]
  },
  {
   "cell_type": "code",
   "execution_count": null,
   "metadata": {
    "id": "uyJrIzjze8v9"
   },
   "outputs": [],
   "source": [
    "mask = df[\"revenue\"] == df[\"revenue\"].max()"
   ]
  },
  {
   "cell_type": "code",
   "execution_count": null,
   "metadata": {
    "colab": {
     "base_uri": "https://localhost:8080/",
     "height": 35
    },
    "id": "3WqmpsYigRDq",
    "outputId": "7d9def19-50be-4f1f-fda2-18442738b4cc"
   },
   "outputs": [],
   "source": [
    "highest_revenue = df[mask][\"original_title\"].values[0]\n",
    "highest_revenue"
   ]
  },
  {
   "cell_type": "code",
   "execution_count": null,
   "metadata": {
    "colab": {
     "base_uri": "https://localhost:8080/"
    },
    "id": "Xpd75Cv5gYgI",
    "outputId": "a42fa56e-7780-47f4-8416-bfd2ae85f44b"
   },
   "outputs": [],
   "source": [
    "df[\"revenue\"][:5] / df[\"runtime\"][:5].astype(float)"
   ]
  },
  {
   "cell_type": "code",
   "execution_count": null,
   "metadata": {
    "colab": {
     "base_uri": "https://localhost:8080/"
    },
    "id": "SWGNlTv8hAC4",
    "outputId": "51a7817b-21d1-42f1-de10-90257ad3bd37"
   },
   "outputs": [],
   "source": [
    "df[\"revenue\"][:5]"
   ]
  },
  {
   "cell_type": "code",
   "execution_count": null,
   "metadata": {
    "colab": {
     "base_uri": "https://localhost:8080/"
    },
    "id": "lMEPSO9ChFT5",
    "outputId": "cd77a922-32ec-4cf6-c54d-d0b77bb45d6d"
   },
   "outputs": [],
   "source": [
    "df[\"runtime\"][:5].astype(float)"
   ]
  },
  {
   "cell_type": "markdown",
   "metadata": {},
   "source": [
    "# <mark> WFF </mark> Missing revenue per minute. You were on the right track"
   ]
  },
  {
   "cell_type": "code",
   "execution_count": null,
   "metadata": {
    "colab": {
     "base_uri": "https://localhost:8080/",
     "height": 433
    },
    "id": "PUhgjj1phKvw",
    "outputId": "051ba5f0-4c38-4069-e0b5-758e81d5bf17"
   },
   "outputs": [],
   "source": [
    "df[\"rev_per_min\"] = df[\"revenue\"] / df[\"runtime\"]\n",
    "mask = df[\"rev_per_min\"] == df[\"rev_per_min\"].max()\n",
    "highest_rev_per_min = df[mask][\"original_title\"].values[0]\n",
    "highest_rev_per_min\n"
   ]
  },
  {
   "cell_type": "code",
   "execution_count": null,
   "metadata": {
    "id": "0UmMC8X4hY4f"
   },
   "outputs": [],
   "source": []
  }
 ],
 "metadata": {
  "colab": {
   "authorship_tag": "ABX9TyMV+9MfdEb5EEpxF5C8sFQN",
   "collapsed_sections": [],
   "include_colab_link": true,
   "provenance": []
  },
  "kernelspec": {
   "display_name": "Python 3",
   "language": "python",
   "name": "python3"
  },
  "language_info": {
   "codemirror_mode": {
    "name": "ipython",
    "version": 3
   },
   "file_extension": ".py",
   "mimetype": "text/x-python",
   "name": "python",
   "nbconvert_exporter": "python",
   "pygments_lexer": "ipython3",
   "version": "3.9.2"
  }
 },
 "nbformat": 4,
 "nbformat_minor": 4
}
