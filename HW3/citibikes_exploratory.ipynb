{
 "cells": [
  {
   "cell_type": "markdown",
   "metadata": {
    "colab_type": "text",
    "id": "view-in-github"
   },
   "source": [
    "<a href=\"https://colab.research.google.com/github/avawaxenberg/FDSfE_AWaxenberg/blob/main/HW3/citibikes_exploratory.ipynb\" target=\"_parent\"><img src=\"https://colab.research.google.com/assets/colab-badge.svg\" alt=\"Open In Colab\"/></a>"
   ]
  },
  {
   "cell_type": "markdown",
   "metadata": {},
   "source": [
    "# <mark>WFF</mark> Not a lot to work with here but I can see that you tried. In the future, you should take a look at the easy things you can get points for like specifically printing out the significance thresholds which requires no coding at all. "
   ]
  },
  {
   "cell_type": "code",
   "execution_count": 33,
   "metadata": {
    "id": "mfgLgWJ6v4bv"
   },
   "outputs": [],
   "source": [
    "import pandas as pd"
   ]
  },
  {
   "cell_type": "code",
   "execution_count": 34,
   "metadata": {
    "id": "s4-RXbM6wAMB"
   },
   "outputs": [],
   "source": [
    "tripd = pd.read_csv(\"https://github.com/fedhere/FDSfE_FBianco/raw/main/data/triptimes.csv\", header = None)"
   ]
  },
  {
   "cell_type": "code",
   "execution_count": 35,
   "metadata": {
    "colab": {
     "base_uri": "https://localhost:8080/"
    },
    "id": "v6RBVNZaxyl4",
    "outputId": "3d3e5286-1ebc-4167-a331-a1cec49083ea"
   },
   "outputs": [
    {
     "data": {
      "text/plain": [
       "34.4661616883"
      ]
     },
     "execution_count": 35,
     "metadata": {},
     "output_type": "execute_result"
    }
   ],
   "source": [
    "tripd[0].mean()"
   ]
  },
  {
   "cell_type": "code",
   "execution_count": 36,
   "metadata": {
    "colab": {
     "base_uri": "https://localhost:8080/",
     "height": 166
    },
    "id": "AYyXQgIXyjFs",
    "outputId": "49eaead8-8751-4196-fbe1-732186696e51"
   },
   "outputs": [
    {
     "ename": "TypeError",
     "evalue": "ignored",
     "output_type": "error",
     "traceback": [
      "\u001b[0;31m---------------------------------------------------------------------------\u001b[0m",
      "\u001b[0;31mTypeError\u001b[0m                                 Traceback (most recent call last)",
      "\u001b[0;32m<ipython-input-36-3ef890673091>\u001b[0m in \u001b[0;36m<module>\u001b[0;34m\u001b[0m\n\u001b[0;32m----> 1\u001b[0;31m \u001b[0mtripd\u001b[0m\u001b[0;34m[\u001b[0m\u001b[0;36m0\u001b[0m\u001b[0;34m]\u001b[0m\u001b[0;34m.\u001b[0m\u001b[0mshape\u001b[0m\u001b[0;34m(\u001b[0m\u001b[0;34m)\u001b[0m\u001b[0;34m\u001b[0m\u001b[0;34m\u001b[0m\u001b[0m\n\u001b[0m",
      "\u001b[0;31mTypeError\u001b[0m: 'tuple' object is not callable"
     ]
    }
   ],
   "source": [
    "tripd[0].shape()"
   ]
  },
  {
   "cell_type": "code",
   "execution_count": 37,
   "metadata": {
    "id": "R9Ey-dHjwY0r"
   },
   "outputs": [],
   "source": [
    "mu = 34\n",
    "sig  = 2.4"
   ]
  },
  {
   "cell_type": "code",
   "execution_count": 38,
   "metadata": {
    "id": "YmQnvy1iw4yU"
   },
   "outputs": [],
   "source": [
    "def Ztest(m, s, x):\n",
    "  \"\"\"calculate the mean statistics for sample means\n",
    "  Input: \n",
    "  m: (float) mean of a population\n",
    "  s: (float) standard deviation of a population \n",
    "  x: (pandas dataframe) sample - column 0 to be the relevant column \n",
    "  Output:\n",
    "  Z value\n",
    "  \"\"\"\n",
    "  Z = (m - x[0].mean()) / (s / np.sqrt(x.shape[0]))"
   ]
  },
  {
   "cell_type": "code",
   "execution_count": 39,
   "metadata": {
    "colab": {
     "base_uri": "https://localhost:8080/",
     "height": 270
    },
    "id": "iq64o4nSuIDL",
    "outputId": "7c7e3053-7613-4710-f0a6-f70577eef79f"
   },
   "outputs": [
    {
     "ename": "NameError",
     "evalue": "ignored",
     "output_type": "error",
     "traceback": [
      "\u001b[0;31m---------------------------------------------------------------------------\u001b[0m",
      "\u001b[0;31mNameError\u001b[0m                                 Traceback (most recent call last)",
      "\u001b[0;32m<ipython-input-39-16158979ab72>\u001b[0m in \u001b[0;36m<module>\u001b[0;34m\u001b[0m\n\u001b[0;32m----> 1\u001b[0;31m \u001b[0mprint\u001b[0m\u001b[0;34m(\u001b[0m\u001b[0;34m\"the z statistics for this sample and population is {:.2f}\"\u001b[0m\u001b[0;34m.\u001b[0m\u001b[0mformat\u001b[0m\u001b[0;34m(\u001b[0m\u001b[0mZtest\u001b[0m\u001b[0;34m(\u001b[0m\u001b[0mmu\u001b[0m\u001b[0;34m,\u001b[0m \u001b[0msig\u001b[0m\u001b[0;34m,\u001b[0m \u001b[0mtripd\u001b[0m\u001b[0;34m)\u001b[0m\u001b[0;34m)\u001b[0m\u001b[0;34m)\u001b[0m\u001b[0;34m\u001b[0m\u001b[0;34m\u001b[0m\u001b[0m\n\u001b[0m",
      "\u001b[0;32m<ipython-input-38-a9d87ec9d381>\u001b[0m in \u001b[0;36mZtest\u001b[0;34m(m, s, x)\u001b[0m\n\u001b[1;32m      8\u001b[0m   \u001b[0mZ\u001b[0m \u001b[0mvalue\u001b[0m\u001b[0;34m\u001b[0m\u001b[0;34m\u001b[0m\u001b[0m\n\u001b[1;32m      9\u001b[0m   \"\"\"\n\u001b[0;32m---> 10\u001b[0;31m   \u001b[0mZ\u001b[0m \u001b[0;34m=\u001b[0m \u001b[0;34m(\u001b[0m\u001b[0mm\u001b[0m \u001b[0;34m-\u001b[0m \u001b[0mx\u001b[0m\u001b[0;34m[\u001b[0m\u001b[0;36m0\u001b[0m\u001b[0;34m]\u001b[0m\u001b[0;34m.\u001b[0m\u001b[0mmean\u001b[0m\u001b[0;34m(\u001b[0m\u001b[0;34m)\u001b[0m\u001b[0;34m)\u001b[0m \u001b[0;34m/\u001b[0m \u001b[0;34m(\u001b[0m\u001b[0ms\u001b[0m \u001b[0;34m/\u001b[0m \u001b[0mnp\u001b[0m\u001b[0;34m.\u001b[0m\u001b[0msqrt\u001b[0m\u001b[0;34m(\u001b[0m\u001b[0mx\u001b[0m\u001b[0;34m.\u001b[0m\u001b[0mshape\u001b[0m\u001b[0;34m[\u001b[0m\u001b[0;36m0\u001b[0m\u001b[0;34m]\u001b[0m\u001b[0;34m)\u001b[0m\u001b[0;34m)\u001b[0m\u001b[0;34m\u001b[0m\u001b[0;34m\u001b[0m\u001b[0m\n\u001b[0m",
      "\u001b[0;31mNameError\u001b[0m: name 'np' is not defined"
     ]
    }
   ],
   "source": [
    "print(\"the z statistics for this sample and population is {:.2f}\".format(Ztest(mu, sig, tripd)))"
   ]
  },
  {
   "cell_type": "code",
   "execution_count": 42,
   "metadata": {
    "id": "bIUlGOXfuQgm"
   },
   "outputs": [],
   "source": [
    "from scipy import stats\n",
    "from matplotlib import pylab as plt\n",
    "import numpy as np"
   ]
  },
  {
   "cell_type": "code",
   "execution_count": 43,
   "metadata": {
    "colab": {
     "base_uri": "https://localhost:8080/"
    },
    "id": "EGDiMNA01em8",
    "outputId": "d9513918-df86-470b-cdc9-c0f5afe0a465"
   },
   "outputs": [
    {
     "data": {
      "text/plain": [
       "array([-4., -3., -2., -1.,  0.,  1.,  2.,  3.,  4.])"
      ]
     },
     "execution_count": 43,
     "metadata": {},
     "output_type": "execute_result"
    }
   ],
   "source": [
    "np.arange(-4,4.1,1)"
   ]
  },
  {
   "cell_type": "code",
   "execution_count": 44,
   "metadata": {
    "colab": {
     "base_uri": "https://localhost:8080/",
     "height": 317
    },
    "id": "UovjxYEc0d09",
    "outputId": "3e3e61bb-55d5-4613-8030-55786522c438"
   },
   "outputs": [
    {
     "data": {
      "text/plain": [
       "(array([0.   , 0.012, 0.136, 0.331, 0.356, 0.141, 0.02 , 0.004]),\n",
       " array([-4., -3., -2., -1.,  0.,  1.,  2.,  3.,  4.]),\n",
       " <a list of 8 Patch objects>)"
      ]
     },
     "execution_count": 44,
     "metadata": {},
     "output_type": "execute_result"
    },
    {
     "data": {
      "image/png": "[encoded data removed]",
      "text/plain": [
       "<Figure size 432x288 with 1 Axes>"
      ]
     },
     "metadata": {
      "needs_background": "light"
     },
     "output_type": "display_data"
    }
   ],
   "source": [
    "sp = stats.norm.rvs(size = 1000)\n",
    "plt.hist(sp, bins = np.arange(-4,4.1,1), density = 1)"
   ]
  },
  {
   "cell_type": "code",
   "execution_count": 45,
   "metadata": {
    "colab": {
     "base_uri": "https://localhost:8080/",
     "height": 317
    },
    "id": "Xk083BO02Atw",
    "outputId": "23c1f2c1-73a6-402b-a482-5cb2a9b69b12"
   },
   "outputs": [
    {
     "data": {
      "text/plain": [
       "(array([0.   , 0.012, 0.148, 0.479, 0.835, 0.976, 0.996, 1.   ]),\n",
       " array([-4., -3., -2., -1.,  0.,  1.,  2.,  3.,  4.]),\n",
       " <a list of 8 Patch objects>)"
      ]
     },
     "execution_count": 45,
     "metadata": {},
     "output_type": "execute_result"
    },
    {
     "data": {
      "image/png": "[encoded data removed]",
      "text/plain": [
       "<Figure size 432x288 with 1 Axes>"
      ]
     },
     "metadata": {
      "needs_background": "light"
     },
     "output_type": "display_data"
    }
   ],
   "source": [
    "plt.hist(sp, bins = np.arange(-4,4.1,1), cumulative = 1, density = 1)"
   ]
  },
  {
   "cell_type": "code",
   "execution_count": 48,
   "metadata": {
    "id": "wE4CgIem56YE"
   },
   "outputs": [],
   "source": [
    "import pandas as pd\n",
    "from scipy import stats"
   ]
  },
  {
   "cell_type": "code",
   "execution_count": 49,
   "metadata": {
    "colab": {
     "base_uri": "https://localhost:8080/",
     "height": 835
    },
    "id": "TgIRqvpg8xhz",
    "outputId": "cb8a9338-58b8-4cd1-a9d8-823aa5395dcc"
   },
   "outputs": [
    {
     "data": {
      "text/html": [
       "\n",
       "  <div id=\"df-f36b365a-3fd3-427e-84e7-e3ea34a9d12d\">\n",
       "    <div class=\"colab-df-container\">\n",
       "      <div>\n",
       "<style scoped>\n",
       "    .dataframe tbody tr th:only-of-type {\n",
       "        vertical-align: middle;\n",
       "    }\n",
       "\n",
       "    .dataframe tbody tr th {\n",
       "        vertical-align: top;\n",
       "    }\n",
       "\n",
       "    .dataframe thead th {\n",
       "        text-align: right;\n",
       "    }\n",
       "</style>\n",
       "<table border=\"1\" class=\"dataframe\">\n",
       "  <thead>\n",
       "    <tr style=\"text-align: right;\">\n",
       "      <th></th>\n",
       "      <th>tripduration</th>\n",
       "      <th>starttime</th>\n",
       "      <th>stoptime</th>\n",
       "      <th>start station id</th>\n",
       "      <th>start station name</th>\n",
       "      <th>start station latitude</th>\n",
       "      <th>start station longitude</th>\n",
       "      <th>end station id</th>\n",
       "      <th>end station name</th>\n",
       "      <th>end station latitude</th>\n",
       "      <th>end station longitude</th>\n",
       "      <th>bikeid</th>\n",
       "      <th>usertype</th>\n",
       "      <th>birth year</th>\n",
       "      <th>gender</th>\n",
       "    </tr>\n",
       "  </thead>\n",
       "  <tbody>\n",
       "    <tr>\n",
       "      <th>0</th>\n",
       "      <td>139</td>\n",
       "      <td>2019-05-01 00:00:01.9010</td>\n",
       "      <td>2019-05-01 00:02:21.5170</td>\n",
       "      <td>447</td>\n",
       "      <td>8 Ave &amp; W 52 St</td>\n",
       "      <td>40.763707</td>\n",
       "      <td>-73.985162</td>\n",
       "      <td>423</td>\n",
       "      <td>W 54 St &amp; 9 Ave</td>\n",
       "      <td>40.765849</td>\n",
       "      <td>-73.986905</td>\n",
       "      <td>31170</td>\n",
       "      <td>Subscriber</td>\n",
       "      <td>1983</td>\n",
       "      <td>1</td>\n",
       "    </tr>\n",
       "    <tr>\n",
       "      <th>1</th>\n",
       "      <td>754</td>\n",
       "      <td>2019-05-01 00:00:03.0210</td>\n",
       "      <td>2019-05-01 00:12:37.6920</td>\n",
       "      <td>3258</td>\n",
       "      <td>W 27 St &amp; 10 Ave</td>\n",
       "      <td>40.750182</td>\n",
       "      <td>-74.002184</td>\n",
       "      <td>3255</td>\n",
       "      <td>8 Ave &amp; W 31 St</td>\n",
       "      <td>40.750585</td>\n",
       "      <td>-73.994685</td>\n",
       "      <td>25560</td>\n",
       "      <td>Customer</td>\n",
       "      <td>1969</td>\n",
       "      <td>0</td>\n",
       "    </tr>\n",
       "    <tr>\n",
       "      <th>2</th>\n",
       "      <td>2308</td>\n",
       "      <td>2019-05-01 00:00:04.6270</td>\n",
       "      <td>2019-05-01 00:38:33.1710</td>\n",
       "      <td>3093</td>\n",
       "      <td>N 6 St &amp; Bedford Ave</td>\n",
       "      <td>40.717452</td>\n",
       "      <td>-73.958509</td>\n",
       "      <td>3676</td>\n",
       "      <td>Van Brunt St &amp; Van Dyke St</td>\n",
       "      <td>40.675833</td>\n",
       "      <td>-74.014726</td>\n",
       "      <td>33369</td>\n",
       "      <td>Subscriber</td>\n",
       "      <td>1978</td>\n",
       "      <td>1</td>\n",
       "    </tr>\n",
       "    <tr>\n",
       "      <th>3</th>\n",
       "      <td>143</td>\n",
       "      <td>2019-05-01 00:00:19.3340</td>\n",
       "      <td>2019-05-01 00:02:42.5200</td>\n",
       "      <td>3486</td>\n",
       "      <td>Schermerhorn St &amp; Bond St</td>\n",
       "      <td>40.688417</td>\n",
       "      <td>-73.984517</td>\n",
       "      <td>3412</td>\n",
       "      <td>Pacific St &amp; Nevins St</td>\n",
       "      <td>40.685376</td>\n",
       "      <td>-73.983021</td>\n",
       "      <td>32041</td>\n",
       "      <td>Subscriber</td>\n",
       "      <td>1997</td>\n",
       "      <td>1</td>\n",
       "    </tr>\n",
       "    <tr>\n",
       "      <th>4</th>\n",
       "      <td>138</td>\n",
       "      <td>2019-05-01 00:00:22.1840</td>\n",
       "      <td>2019-05-01 00:02:40.6480</td>\n",
       "      <td>388</td>\n",
       "      <td>W 26 St &amp; 10 Ave</td>\n",
       "      <td>40.749718</td>\n",
       "      <td>-74.002950</td>\n",
       "      <td>494</td>\n",
       "      <td>W 26 St &amp; 8 Ave</td>\n",
       "      <td>40.747348</td>\n",
       "      <td>-73.997236</td>\n",
       "      <td>35237</td>\n",
       "      <td>Subscriber</td>\n",
       "      <td>1967</td>\n",
       "      <td>1</td>\n",
       "    </tr>\n",
       "    <tr>\n",
       "      <th>...</th>\n",
       "      <td>...</td>\n",
       "      <td>...</td>\n",
       "      <td>...</td>\n",
       "      <td>...</td>\n",
       "      <td>...</td>\n",
       "      <td>...</td>\n",
       "      <td>...</td>\n",
       "      <td>...</td>\n",
       "      <td>...</td>\n",
       "      <td>...</td>\n",
       "      <td>...</td>\n",
       "      <td>...</td>\n",
       "      <td>...</td>\n",
       "      <td>...</td>\n",
       "      <td>...</td>\n",
       "    </tr>\n",
       "    <tr>\n",
       "      <th>1924558</th>\n",
       "      <td>304</td>\n",
       "      <td>2019-05-31 23:59:45.5760</td>\n",
       "      <td>2019-06-01 00:04:50.4620</td>\n",
       "      <td>3175</td>\n",
       "      <td>W 70 St &amp; Amsterdam Ave</td>\n",
       "      <td>40.777480</td>\n",
       "      <td>-73.982886</td>\n",
       "      <td>423</td>\n",
       "      <td>W 54 St &amp; 9 Ave</td>\n",
       "      <td>40.765849</td>\n",
       "      <td>-73.986905</td>\n",
       "      <td>32285</td>\n",
       "      <td>Subscriber</td>\n",
       "      <td>1987</td>\n",
       "      <td>2</td>\n",
       "    </tr>\n",
       "    <tr>\n",
       "      <th>1924559</th>\n",
       "      <td>324</td>\n",
       "      <td>2019-05-31 23:59:46.4650</td>\n",
       "      <td>2019-06-01 00:05:11.1630</td>\n",
       "      <td>2003</td>\n",
       "      <td>1 Ave &amp; E 18 St</td>\n",
       "      <td>40.733812</td>\n",
       "      <td>-73.980544</td>\n",
       "      <td>536</td>\n",
       "      <td>1 Ave &amp; E 30 St</td>\n",
       "      <td>40.741444</td>\n",
       "      <td>-73.975361</td>\n",
       "      <td>33874</td>\n",
       "      <td>Subscriber</td>\n",
       "      <td>1994</td>\n",
       "      <td>2</td>\n",
       "    </tr>\n",
       "    <tr>\n",
       "      <th>1924560</th>\n",
       "      <td>1926</td>\n",
       "      <td>2019-05-31 23:59:51.5060</td>\n",
       "      <td>2019-06-01 00:31:58.3920</td>\n",
       "      <td>146</td>\n",
       "      <td>Hudson St &amp; Reade St</td>\n",
       "      <td>40.716250</td>\n",
       "      <td>-74.009106</td>\n",
       "      <td>422</td>\n",
       "      <td>W 59 St &amp; 10 Ave</td>\n",
       "      <td>40.770513</td>\n",
       "      <td>-73.988038</td>\n",
       "      <td>33395</td>\n",
       "      <td>Subscriber</td>\n",
       "      <td>1985</td>\n",
       "      <td>1</td>\n",
       "    </tr>\n",
       "    <tr>\n",
       "      <th>1924561</th>\n",
       "      <td>2047</td>\n",
       "      <td>2019-05-31 23:59:52.4170</td>\n",
       "      <td>2019-06-01 00:34:00.1970</td>\n",
       "      <td>3658</td>\n",
       "      <td>W 18 St &amp; 9 Ave</td>\n",
       "      <td>40.743534</td>\n",
       "      <td>-74.003676</td>\n",
       "      <td>2008</td>\n",
       "      <td>Little West St &amp; 1 Pl</td>\n",
       "      <td>40.705693</td>\n",
       "      <td>-74.016777</td>\n",
       "      <td>27624</td>\n",
       "      <td>Subscriber</td>\n",
       "      <td>1987</td>\n",
       "      <td>0</td>\n",
       "    </tr>\n",
       "    <tr>\n",
       "      <th>1924562</th>\n",
       "      <td>964</td>\n",
       "      <td>2019-05-31 23:59:55.5500</td>\n",
       "      <td>2019-06-01 00:15:59.8680</td>\n",
       "      <td>285</td>\n",
       "      <td>Broadway &amp; E 14 St</td>\n",
       "      <td>40.734546</td>\n",
       "      <td>-73.990741</td>\n",
       "      <td>3656</td>\n",
       "      <td>E 2 St &amp; Avenue A</td>\n",
       "      <td>40.723077</td>\n",
       "      <td>-73.985836</td>\n",
       "      <td>32565</td>\n",
       "      <td>Subscriber</td>\n",
       "      <td>1992</td>\n",
       "      <td>2</td>\n",
       "    </tr>\n",
       "  </tbody>\n",
       "</table>\n",
       "<p>1924563 rows × 15 columns</p>\n",
       "</div>\n",
       "      <button class=\"colab-df-convert\" onclick=\"convertToInteractive('df-f36b365a-3fd3-427e-84e7-e3ea34a9d12d')\"\n",
       "              title=\"Convert this dataframe to an interactive table.\"\n",
       "              style=\"display:none;\">\n",
       "        \n",
       "  <svg xmlns=\"http://www.w3.org/2000/svg\" height=\"24px\"viewBox=\"0 0 24 24\"\n",
       "       width=\"24px\">\n",
       "    <path d=\"M0 0h24v24H0V0z\" fill=\"none\"/>\n",
       "    <path d=\"M18.56 5.44l.94 2.06.94-2.06 2.06-.94-2.06-.94-.94-2.06-.94 2.06-2.06.94zm-11 1L8.5 8.5l.94-2.06 2.06-.94-2.06-.94L8.5 2.5l-.94 2.06-2.06.94zm10 10l.94 2.06.94-2.06 2.06-.94-2.06-.94-.94-2.06-.94 2.06-2.06.94z\"/><path d=\"M17.41 7.96l-1.37-1.37c-.4-.4-.92-.59-1.43-.59-.52 0-1.04.2-1.43.59L10.3 9.45l-7.72 7.72c-.78.78-.78 2.05 0 2.83L4 21.41c.39.39.9.59 1.41.59.51 0 1.02-.2 1.41-.59l7.78-7.78 2.81-2.81c.8-.78.8-2.07 0-2.86zM5.41 20L4 18.59l7.72-7.72 1.47 1.35L5.41 20z\"/>\n",
       "  </svg>\n",
       "      </button>\n",
       "      \n",
       "  <style>\n",
       "    .colab-df-container {\n",
       "      display:flex;\n",
       "      flex-wrap:wrap;\n",
       "      gap: 12px;\n",
       "    }\n",
       "\n",
       "    .colab-df-convert {\n",
       "      background-color: #E8F0FE;\n",
       "      border: none;\n",
       "      border-radius: 50%;\n",
       "      cursor: pointer;\n",
       "      display: none;\n",
       "      fill: #1967D2;\n",
       "      height: 32px;\n",
       "      padding: 0 0 0 0;\n",
       "      width: 32px;\n",
       "    }\n",
       "\n",
       "    .colab-df-convert:hover {\n",
       "      background-color: #E2EBFA;\n",
       "      box-shadow: 0px 1px 2px rgba(60, 64, 67, 0.3), 0px 1px 3px 1px rgba(60, 64, 67, 0.15);\n",
       "      fill: #174EA6;\n",
       "    }\n",
       "\n",
       "    [theme=dark] .colab-df-convert {\n",
       "      background-color: #3B4455;\n",
       "      fill: #D2E3FC;\n",
       "    }\n",
       "\n",
       "    [theme=dark] .colab-df-convert:hover {\n",
       "      background-color: #434B5C;\n",
       "      box-shadow: 0px 1px 3px 1px rgba(0, 0, 0, 0.15);\n",
       "      filter: drop-shadow(0px 1px 2px rgba(0, 0, 0, 0.3));\n",
       "      fill: #FFFFFF;\n",
       "    }\n",
       "  </style>\n",
       "\n",
       "      <script>\n",
       "        const buttonEl =\n",
       "          document.querySelector('#df-f36b365a-3fd3-427e-84e7-e3ea34a9d12d button.colab-df-convert');\n",
       "        buttonEl.style.display =\n",
       "          google.colab.kernel.accessAllowed ? 'block' : 'none';\n",
       "\n",
       "        async function convertToInteractive(key) {\n",
       "          const element = document.querySelector('#df-f36b365a-3fd3-427e-84e7-e3ea34a9d12d');\n",
       "          const dataTable =\n",
       "            await google.colab.kernel.invokeFunction('convertToInteractive',\n",
       "                                                     [key], {});\n",
       "          if (!dataTable) return;\n",
       "\n",
       "          const docLinkHtml = 'Like what you see? Visit the ' +\n",
       "            '<a target=\"_blank\" href=https://colab.research.google.com/notebooks/data_table.ipynb>data table notebook</a>'\n",
       "            + ' to learn more about interactive tables.';\n",
       "          element.innerHTML = '';\n",
       "          dataTable['output_type'] = 'display_data';\n",
       "          await google.colab.output.renderOutput(dataTable, element);\n",
       "          const docLink = document.createElement('div');\n",
       "          docLink.innerHTML = docLinkHtml;\n",
       "          element.appendChild(docLink);\n",
       "        }\n",
       "      </script>\n",
       "    </div>\n",
       "  </div>\n",
       "  "
      ],
      "text/plain": [
       "         tripduration                 starttime                  stoptime  \\\n",
       "0                 139  2019-05-01 00:00:01.9010  2019-05-01 00:02:21.5170   \n",
       "1                 754  2019-05-01 00:00:03.0210  2019-05-01 00:12:37.6920   \n",
       "2                2308  2019-05-01 00:00:04.6270  2019-05-01 00:38:33.1710   \n",
       "3                 143  2019-05-01 00:00:19.3340  2019-05-01 00:02:42.5200   \n",
       "4                 138  2019-05-01 00:00:22.1840  2019-05-01 00:02:40.6480   \n",
       "...               ...                       ...                       ...   \n",
       "1924558           304  2019-05-31 23:59:45.5760  2019-06-01 00:04:50.4620   \n",
       "1924559           324  2019-05-31 23:59:46.4650  2019-06-01 00:05:11.1630   \n",
       "1924560          1926  2019-05-31 23:59:51.5060  2019-06-01 00:31:58.3920   \n",
       "1924561          2047  2019-05-31 23:59:52.4170  2019-06-01 00:34:00.1970   \n",
       "1924562           964  2019-05-31 23:59:55.5500  2019-06-01 00:15:59.8680   \n",
       "\n",
       "         start station id         start station name  start station latitude  \\\n",
       "0                     447            8 Ave & W 52 St               40.763707   \n",
       "1                    3258           W 27 St & 10 Ave               40.750182   \n",
       "2                    3093       N 6 St & Bedford Ave               40.717452   \n",
       "3                    3486  Schermerhorn St & Bond St               40.688417   \n",
       "4                     388           W 26 St & 10 Ave               40.749718   \n",
       "...                   ...                        ...                     ...   \n",
       "1924558              3175    W 70 St & Amsterdam Ave               40.777480   \n",
       "1924559              2003            1 Ave & E 18 St               40.733812   \n",
       "1924560               146       Hudson St & Reade St               40.716250   \n",
       "1924561              3658            W 18 St & 9 Ave               40.743534   \n",
       "1924562               285         Broadway & E 14 St               40.734546   \n",
       "\n",
       "         start station longitude  end station id            end station name  \\\n",
       "0                     -73.985162             423             W 54 St & 9 Ave   \n",
       "1                     -74.002184            3255             8 Ave & W 31 St   \n",
       "2                     -73.958509            3676  Van Brunt St & Van Dyke St   \n",
       "3                     -73.984517            3412      Pacific St & Nevins St   \n",
       "4                     -74.002950             494             W 26 St & 8 Ave   \n",
       "...                          ...             ...                         ...   \n",
       "1924558               -73.982886             423             W 54 St & 9 Ave   \n",
       "1924559               -73.980544             536             1 Ave & E 30 St   \n",
       "1924560               -74.009106             422            W 59 St & 10 Ave   \n",
       "1924561               -74.003676            2008       Little West St & 1 Pl   \n",
       "1924562               -73.990741            3656           E 2 St & Avenue A   \n",
       "\n",
       "         end station latitude  end station longitude  bikeid    usertype  \\\n",
       "0                   40.765849             -73.986905   31170  Subscriber   \n",
       "1                   40.750585             -73.994685   25560    Customer   \n",
       "2                   40.675833             -74.014726   33369  Subscriber   \n",
       "3                   40.685376             -73.983021   32041  Subscriber   \n",
       "4                   40.747348             -73.997236   35237  Subscriber   \n",
       "...                       ...                    ...     ...         ...   \n",
       "1924558             40.765849             -73.986905   32285  Subscriber   \n",
       "1924559             40.741444             -73.975361   33874  Subscriber   \n",
       "1924560             40.770513             -73.988038   33395  Subscriber   \n",
       "1924561             40.705693             -74.016777   27624  Subscriber   \n",
       "1924562             40.723077             -73.985836   32565  Subscriber   \n",
       "\n",
       "         birth year  gender  \n",
       "0              1983       1  \n",
       "1              1969       0  \n",
       "2              1978       1  \n",
       "3              1997       1  \n",
       "4              1967       1  \n",
       "...             ...     ...  \n",
       "1924558        1987       2  \n",
       "1924559        1994       2  \n",
       "1924560        1985       1  \n",
       "1924561        1987       0  \n",
       "1924562        1992       2  \n",
       "\n",
       "[1924563 rows x 15 columns]"
      ]
     },
     "execution_count": 49,
     "metadata": {},
     "output_type": "execute_result"
    }
   ],
   "source": [
    "datestring = '201905'\n",
    "cbMay19 = pd.read_csv(\"https://s3.amazonaws.com/tripdata/\"+ datestring + \"-citibike-tripdata.csv.zip\")\n",
    "cbMay19"
   ]
  },
  {
   "cell_type": "code",
   "execution_count": 50,
   "metadata": {
    "colab": {
     "base_uri": "https://localhost:8080/",
     "height": 218
    },
    "id": "JD7KfJpy9n0X",
    "outputId": "c508c488-43ac-463a-a76d-b809af3c986c"
   },
   "outputs": [
    {
     "ename": "NameError",
     "evalue": "ignored",
     "output_type": "error",
     "traceback": [
      "\u001b[0;31m---------------------------------------------------------------------------\u001b[0m",
      "\u001b[0;31mNameError\u001b[0m                                 Traceback (most recent call last)",
      "\u001b[0;32m<ipython-input-50-b7d0a8590083>\u001b[0m in \u001b[0;36m<module>\u001b[0;34m\u001b[0m\n\u001b[0;32m----> 1\u001b[0;31m \u001b[0mnormed_f\u001b[0m \u001b[0;34m=\u001b[0m \u001b[0;34m(\u001b[0m\u001b[0mcbMay19_f\u001b[0m\u001b[0;34m[\u001b[0m\u001b[0;34m\"tripduration\"\u001b[0m\u001b[0;34m]\u001b[0m \u001b[0;34m-\u001b[0m \u001b[0mcbMay19_f\u001b[0m\u001b[0;34m[\u001b[0m\u001b[0;34m\"tripduration\"\u001b[0m\u001b[0;34m]\u001b[0m\u001b[0;34m.\u001b[0m\u001b[0mmean\u001b[0m\u001b[0;34m(\u001b[0m\u001b[0;34m)\u001b[0m\u001b[0;34m)\u001b[0m \u001b[0;34m/\u001b[0m \u001b[0mcbMay19_f\u001b[0m\u001b[0;34m[\u001b[0m\u001b[0;34m\"tripduration\"\u001b[0m\u001b[0;34m]\u001b[0m\u001b[0;34m.\u001b[0m\u001b[0mstd\u001b[0m\u001b[0;34m(\u001b[0m\u001b[0;34m)\u001b[0m\u001b[0;34m\u001b[0m\u001b[0;34m\u001b[0m\u001b[0m\n\u001b[0m\u001b[1;32m      2\u001b[0m \u001b[0mnormed_m\u001b[0m \u001b[0;34m=\u001b[0m \u001b[0;34m(\u001b[0m\u001b[0mcbMay19_m\u001b[0m\u001b[0;34m[\u001b[0m\u001b[0;34m\"tripduration\"\u001b[0m\u001b[0;34m]\u001b[0m \u001b[0;34m-\u001b[0m \u001b[0mcbMay19_m\u001b[0m\u001b[0;34m[\u001b[0m\u001b[0;34m\"tripduration\"\u001b[0m\u001b[0;34m]\u001b[0m\u001b[0;34m.\u001b[0m\u001b[0mmean\u001b[0m\u001b[0;34m(\u001b[0m\u001b[0;34m)\u001b[0m\u001b[0;34m)\u001b[0m \u001b[0;34m/\u001b[0m \u001b[0mcbMay19_m\u001b[0m\u001b[0;34m[\u001b[0m\u001b[0;34m\"tripduration\"\u001b[0m\u001b[0;34m]\u001b[0m\u001b[0;34m.\u001b[0m\u001b[0mstd\u001b[0m\u001b[0;34m(\u001b[0m\u001b[0;34m)\u001b[0m\u001b[0;34m\u001b[0m\u001b[0;34m\u001b[0m\u001b[0m\n",
      "\u001b[0;31mNameError\u001b[0m: name 'cbMay19_f' is not defined"
     ]
    }
   ],
   "source": [
    "normed_f = (cbMay19_f[\"tripduration\"] - cbMay19_f[\"tripduration\"].mean()) / cbMay19_f[\"tripduration\"].std()\n",
    "normed_m = (cbMay19_m[\"tripduration\"] - cbMay19_m[\"tripduration\"].mean()) / cbMay19_m[\"tripduration\"].std()"
   ]
  },
  {
   "cell_type": "markdown",
   "metadata": {
    "id": "-FeSLECH92ko"
   },
   "source": [
    "need help with directions"
   ]
  }
 ],
 "metadata": {
  "colab": {
   "authorship_tag": "ABX9TyNMwK7RyASA8yBFtrBdLicS",
   "collapsed_sections": [],
   "include_colab_link": true,
   "provenance": []
  },
  "kernelspec": {
   "display_name": "Python 3",
   "language": "python",
   "name": "python3"
  },
  "language_info": {
   "codemirror_mode": {
    "name": "ipython",
    "version": 3
   },
   "file_extension": ".py",
   "mimetype": "text/x-python",
   "name": "python",
   "nbconvert_exporter": "python",
   "pygments_lexer": "ipython3",
   "version": "3.9.2"
  }
 },
 "nbformat": 4,
 "nbformat_minor": 4
}
