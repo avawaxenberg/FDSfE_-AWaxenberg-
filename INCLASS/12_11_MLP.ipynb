{
  "nbformat": 4,
  "nbformat_minor": 0,
  "metadata": {
    "colab": {
      "provenance": [],
      "authorship_tag": "ABX9TyMaUzesA9kA2S78Z8hh5tuI",
      "include_colab_link": true
    },
    "kernelspec": {
      "name": "python3",
      "display_name": "Python 3"
    },
    "language_info": {
      "name": "python"
    }
  },
  "cells": [
    {
      "cell_type": "markdown",
      "metadata": {
        "id": "view-in-github",
        "colab_type": "text"
      },
      "source": [
        "<a href=\"https://colab.research.google.com/github/avawaxenberg/FDSfE_AWaxenberg/blob/main/INCLASS/12_11_MLP.ipynb\" target=\"_parent\"><img src=\"https://colab.research.google.com/assets/colab-badge.svg\" alt=\"Open In Colab\"/></a>"
      ]
    },
    {
      "cell_type": "code",
      "execution_count": 1,
      "metadata": {
        "id": "xwfyS2bPiovD"
      },
      "outputs": [],
      "source": [
        "import pandas as pd\n",
        "import numpy as np\n",
        "import pylab as plt"
      ]
    },
    {
      "cell_type": "code",
      "source": [
        "from sklearn.datasets import load_digits"
      ],
      "metadata": {
        "id": "PU90KAOji-mx"
      },
      "execution_count": 2,
      "outputs": []
    },
    {
      "cell_type": "code",
      "source": [
        "mnist = load_digits()"
      ],
      "metadata": {
        "id": "GLwAolUyjDPO"
      },
      "execution_count": 3,
      "outputs": []
    },
    {
      "cell_type": "code",
      "source": [
        "mnist"
      ],
      "metadata": {
        "colab": {
          "base_uri": "https://localhost:8080/"
        },
        "id": "RUtl2FvnjHRl",
        "outputId": "1acfe734-5290-4038-e3fd-406e8517c512"
      },
      "execution_count": 4,
      "outputs": [
        {
          "output_type": "execute_result",
          "data": {
            "text/plain": [
              "{'data': array([[ 0.,  0.,  5., ...,  0.,  0.,  0.],\n",
              "        [ 0.,  0.,  0., ..., 10.,  0.,  0.],\n",
              "        [ 0.,  0.,  0., ..., 16.,  9.,  0.],\n",
              "        ...,\n",
              "        [ 0.,  0.,  1., ...,  6.,  0.,  0.],\n",
              "        [ 0.,  0.,  2., ..., 12.,  0.,  0.],\n",
              "        [ 0.,  0., 10., ..., 12.,  1.,  0.]]),\n",
              " 'target': array([0, 1, 2, ..., 8, 9, 8]),\n",
              " 'frame': None,\n",
              " 'feature_names': ['pixel_0_0',\n",
              "  'pixel_0_1',\n",
              "  'pixel_0_2',\n",
              "  'pixel_0_3',\n",
              "  'pixel_0_4',\n",
              "  'pixel_0_5',\n",
              "  'pixel_0_6',\n",
              "  'pixel_0_7',\n",
              "  'pixel_1_0',\n",
              "  'pixel_1_1',\n",
              "  'pixel_1_2',\n",
              "  'pixel_1_3',\n",
              "  'pixel_1_4',\n",
              "  'pixel_1_5',\n",
              "  'pixel_1_6',\n",
              "  'pixel_1_7',\n",
              "  'pixel_2_0',\n",
              "  'pixel_2_1',\n",
              "  'pixel_2_2',\n",
              "  'pixel_2_3',\n",
              "  'pixel_2_4',\n",
              "  'pixel_2_5',\n",
              "  'pixel_2_6',\n",
              "  'pixel_2_7',\n",
              "  'pixel_3_0',\n",
              "  'pixel_3_1',\n",
              "  'pixel_3_2',\n",
              "  'pixel_3_3',\n",
              "  'pixel_3_4',\n",
              "  'pixel_3_5',\n",
              "  'pixel_3_6',\n",
              "  'pixel_3_7',\n",
              "  'pixel_4_0',\n",
              "  'pixel_4_1',\n",
              "  'pixel_4_2',\n",
              "  'pixel_4_3',\n",
              "  'pixel_4_4',\n",
              "  'pixel_4_5',\n",
              "  'pixel_4_6',\n",
              "  'pixel_4_7',\n",
              "  'pixel_5_0',\n",
              "  'pixel_5_1',\n",
              "  'pixel_5_2',\n",
              "  'pixel_5_3',\n",
              "  'pixel_5_4',\n",
              "  'pixel_5_5',\n",
              "  'pixel_5_6',\n",
              "  'pixel_5_7',\n",
              "  'pixel_6_0',\n",
              "  'pixel_6_1',\n",
              "  'pixel_6_2',\n",
              "  'pixel_6_3',\n",
              "  'pixel_6_4',\n",
              "  'pixel_6_5',\n",
              "  'pixel_6_6',\n",
              "  'pixel_6_7',\n",
              "  'pixel_7_0',\n",
              "  'pixel_7_1',\n",
              "  'pixel_7_2',\n",
              "  'pixel_7_3',\n",
              "  'pixel_7_4',\n",
              "  'pixel_7_5',\n",
              "  'pixel_7_6',\n",
              "  'pixel_7_7'],\n",
              " 'target_names': array([0, 1, 2, 3, 4, 5, 6, 7, 8, 9]),\n",
              " 'images': array([[[ 0.,  0.,  5., ...,  1.,  0.,  0.],\n",
              "         [ 0.,  0., 13., ..., 15.,  5.,  0.],\n",
              "         [ 0.,  3., 15., ..., 11.,  8.,  0.],\n",
              "         ...,\n",
              "         [ 0.,  4., 11., ..., 12.,  7.,  0.],\n",
              "         [ 0.,  2., 14., ..., 12.,  0.,  0.],\n",
              "         [ 0.,  0.,  6., ...,  0.,  0.,  0.]],\n",
              " \n",
              "        [[ 0.,  0.,  0., ...,  5.,  0.,  0.],\n",
              "         [ 0.,  0.,  0., ...,  9.,  0.,  0.],\n",
              "         [ 0.,  0.,  3., ...,  6.,  0.,  0.],\n",
              "         ...,\n",
              "         [ 0.,  0.,  1., ...,  6.,  0.,  0.],\n",
              "         [ 0.,  0.,  1., ...,  6.,  0.,  0.],\n",
              "         [ 0.,  0.,  0., ..., 10.,  0.,  0.]],\n",
              " \n",
              "        [[ 0.,  0.,  0., ..., 12.,  0.,  0.],\n",
              "         [ 0.,  0.,  3., ..., 14.,  0.,  0.],\n",
              "         [ 0.,  0.,  8., ..., 16.,  0.,  0.],\n",
              "         ...,\n",
              "         [ 0.,  9., 16., ...,  0.,  0.,  0.],\n",
              "         [ 0.,  3., 13., ..., 11.,  5.,  0.],\n",
              "         [ 0.,  0.,  0., ..., 16.,  9.,  0.]],\n",
              " \n",
              "        ...,\n",
              " \n",
              "        [[ 0.,  0.,  1., ...,  1.,  0.,  0.],\n",
              "         [ 0.,  0., 13., ...,  2.,  1.,  0.],\n",
              "         [ 0.,  0., 16., ..., 16.,  5.,  0.],\n",
              "         ...,\n",
              "         [ 0.,  0., 16., ..., 15.,  0.,  0.],\n",
              "         [ 0.,  0., 15., ..., 16.,  0.,  0.],\n",
              "         [ 0.,  0.,  2., ...,  6.,  0.,  0.]],\n",
              " \n",
              "        [[ 0.,  0.,  2., ...,  0.,  0.,  0.],\n",
              "         [ 0.,  0., 14., ..., 15.,  1.,  0.],\n",
              "         [ 0.,  4., 16., ..., 16.,  7.,  0.],\n",
              "         ...,\n",
              "         [ 0.,  0.,  0., ..., 16.,  2.,  0.],\n",
              "         [ 0.,  0.,  4., ..., 16.,  2.,  0.],\n",
              "         [ 0.,  0.,  5., ..., 12.,  0.,  0.]],\n",
              " \n",
              "        [[ 0.,  0., 10., ...,  1.,  0.,  0.],\n",
              "         [ 0.,  2., 16., ...,  1.,  0.,  0.],\n",
              "         [ 0.,  0., 15., ..., 15.,  0.,  0.],\n",
              "         ...,\n",
              "         [ 0.,  4., 16., ..., 16.,  6.,  0.],\n",
              "         [ 0.,  8., 16., ..., 16.,  8.,  0.],\n",
              "         [ 0.,  1.,  8., ..., 12.,  1.,  0.]]]),\n",
              " 'DESCR': \".. _digits_dataset:\\n\\nOptical recognition of handwritten digits dataset\\n--------------------------------------------------\\n\\n**Data Set Characteristics:**\\n\\n    :Number of Instances: 1797\\n    :Number of Attributes: 64\\n    :Attribute Information: 8x8 image of integer pixels in the range 0..16.\\n    :Missing Attribute Values: None\\n    :Creator: E. Alpaydin (alpaydin '@' boun.edu.tr)\\n    :Date: July; 1998\\n\\nThis is a copy of the test set of the UCI ML hand-written digits datasets\\nhttps://archive.ics.uci.edu/ml/datasets/Optical+Recognition+of+Handwritten+Digits\\n\\nThe data set contains images of hand-written digits: 10 classes where\\neach class refers to a digit.\\n\\nPreprocessing programs made available by NIST were used to extract\\nnormalized bitmaps of handwritten digits from a preprinted form. From a\\ntotal of 43 people, 30 contributed to the training set and different 13\\nto the test set. 32x32 bitmaps are divided into nonoverlapping blocks of\\n4x4 and the number of on pixels are counted in each block. This generates\\nan input matrix of 8x8 where each element is an integer in the range\\n0..16. This reduces dimensionality and gives invariance to small\\ndistortions.\\n\\nFor info on NIST preprocessing routines, see M. D. Garris, J. L. Blue, G.\\nT. Candela, D. L. Dimmick, J. Geist, P. J. Grother, S. A. Janet, and C.\\nL. Wilson, NIST Form-Based Handprint Recognition System, NISTIR 5469,\\n1994.\\n\\n.. topic:: References\\n\\n  - C. Kaynak (1995) Methods of Combining Multiple Classifiers and Their\\n    Applications to Handwritten Digit Recognition, MSc Thesis, Institute of\\n    Graduate Studies in Science and Engineering, Bogazici University.\\n  - E. Alpaydin, C. Kaynak (1998) Cascading Classifiers, Kybernetika.\\n  - Ken Tang and Ponnuthurai N. Suganthan and Xi Yao and A. Kai Qin.\\n    Linear dimensionalityreduction using relevance weighted LDA. School of\\n    Electrical and Electronic Engineering Nanyang Technological University.\\n    2005.\\n  - Claudio Gentile. A New Approximate Maximal Margin Classification\\n    Algorithm. NIPS. 2000.\\n\"}"
            ]
          },
          "metadata": {},
          "execution_count": 4
        }
      ]
    },
    {
      "cell_type": "code",
      "source": [
        "mnist.keys()"
      ],
      "metadata": {
        "colab": {
          "base_uri": "https://localhost:8080/"
        },
        "id": "f7k82_YIjJuT",
        "outputId": "7bef0269-2491-438d-8f2b-20e0effa5841"
      },
      "execution_count": 5,
      "outputs": [
        {
          "output_type": "execute_result",
          "data": {
            "text/plain": [
              "dict_keys(['data', 'target', 'frame', 'feature_names', 'target_names', 'images', 'DESCR'])"
            ]
          },
          "metadata": {},
          "execution_count": 5
        }
      ]
    },
    {
      "cell_type": "code",
      "source": [
        "mnist.data"
      ],
      "metadata": {
        "colab": {
          "base_uri": "https://localhost:8080/"
        },
        "id": "Y0nIWmA_jcrV",
        "outputId": "c1ed3d62-da13-44b3-9285-68944ad7c4b9"
      },
      "execution_count": 6,
      "outputs": [
        {
          "output_type": "execute_result",
          "data": {
            "text/plain": [
              "array([[ 0.,  0.,  5., ...,  0.,  0.,  0.],\n",
              "       [ 0.,  0.,  0., ..., 10.,  0.,  0.],\n",
              "       [ 0.,  0.,  0., ..., 16.,  9.,  0.],\n",
              "       ...,\n",
              "       [ 0.,  0.,  1., ...,  6.,  0.,  0.],\n",
              "       [ 0.,  0.,  2., ..., 12.,  0.,  0.],\n",
              "       [ 0.,  0., 10., ..., 12.,  1.,  0.]])"
            ]
          },
          "metadata": {},
          "execution_count": 6
        }
      ]
    },
    {
      "cell_type": "code",
      "source": [
        "mnist.data.shape"
      ],
      "metadata": {
        "colab": {
          "base_uri": "https://localhost:8080/"
        },
        "id": "F7qAVlb4jd1v",
        "outputId": "8306ee77-ddee-45fc-85af-66bcfcfa4fbe"
      },
      "execution_count": 7,
      "outputs": [
        {
          "output_type": "execute_result",
          "data": {
            "text/plain": [
              "(1797, 64)"
            ]
          },
          "metadata": {},
          "execution_count": 7
        }
      ]
    },
    {
      "cell_type": "code",
      "source": [
        "mnist.images"
      ],
      "metadata": {
        "colab": {
          "base_uri": "https://localhost:8080/"
        },
        "id": "1M1r3VFLjmBW",
        "outputId": "1992c69f-4bb9-48ad-af27-daeea239ca83"
      },
      "execution_count": 8,
      "outputs": [
        {
          "output_type": "execute_result",
          "data": {
            "text/plain": [
              "array([[[ 0.,  0.,  5., ...,  1.,  0.,  0.],\n",
              "        [ 0.,  0., 13., ..., 15.,  5.,  0.],\n",
              "        [ 0.,  3., 15., ..., 11.,  8.,  0.],\n",
              "        ...,\n",
              "        [ 0.,  4., 11., ..., 12.,  7.,  0.],\n",
              "        [ 0.,  2., 14., ..., 12.,  0.,  0.],\n",
              "        [ 0.,  0.,  6., ...,  0.,  0.,  0.]],\n",
              "\n",
              "       [[ 0.,  0.,  0., ...,  5.,  0.,  0.],\n",
              "        [ 0.,  0.,  0., ...,  9.,  0.,  0.],\n",
              "        [ 0.,  0.,  3., ...,  6.,  0.,  0.],\n",
              "        ...,\n",
              "        [ 0.,  0.,  1., ...,  6.,  0.,  0.],\n",
              "        [ 0.,  0.,  1., ...,  6.,  0.,  0.],\n",
              "        [ 0.,  0.,  0., ..., 10.,  0.,  0.]],\n",
              "\n",
              "       [[ 0.,  0.,  0., ..., 12.,  0.,  0.],\n",
              "        [ 0.,  0.,  3., ..., 14.,  0.,  0.],\n",
              "        [ 0.,  0.,  8., ..., 16.,  0.,  0.],\n",
              "        ...,\n",
              "        [ 0.,  9., 16., ...,  0.,  0.,  0.],\n",
              "        [ 0.,  3., 13., ..., 11.,  5.,  0.],\n",
              "        [ 0.,  0.,  0., ..., 16.,  9.,  0.]],\n",
              "\n",
              "       ...,\n",
              "\n",
              "       [[ 0.,  0.,  1., ...,  1.,  0.,  0.],\n",
              "        [ 0.,  0., 13., ...,  2.,  1.,  0.],\n",
              "        [ 0.,  0., 16., ..., 16.,  5.,  0.],\n",
              "        ...,\n",
              "        [ 0.,  0., 16., ..., 15.,  0.,  0.],\n",
              "        [ 0.,  0., 15., ..., 16.,  0.,  0.],\n",
              "        [ 0.,  0.,  2., ...,  6.,  0.,  0.]],\n",
              "\n",
              "       [[ 0.,  0.,  2., ...,  0.,  0.,  0.],\n",
              "        [ 0.,  0., 14., ..., 15.,  1.,  0.],\n",
              "        [ 0.,  4., 16., ..., 16.,  7.,  0.],\n",
              "        ...,\n",
              "        [ 0.,  0.,  0., ..., 16.,  2.,  0.],\n",
              "        [ 0.,  0.,  4., ..., 16.,  2.,  0.],\n",
              "        [ 0.,  0.,  5., ..., 12.,  0.,  0.]],\n",
              "\n",
              "       [[ 0.,  0., 10., ...,  1.,  0.,  0.],\n",
              "        [ 0.,  2., 16., ...,  1.,  0.,  0.],\n",
              "        [ 0.,  0., 15., ..., 15.,  0.,  0.],\n",
              "        ...,\n",
              "        [ 0.,  4., 16., ..., 16.,  6.,  0.],\n",
              "        [ 0.,  8., 16., ..., 16.,  8.,  0.],\n",
              "        [ 0.,  1.,  8., ..., 12.,  1.,  0.]]])"
            ]
          },
          "metadata": {},
          "execution_count": 8
        }
      ]
    },
    {
      "cell_type": "code",
      "source": [
        "mnist.images.shape"
      ],
      "metadata": {
        "colab": {
          "base_uri": "https://localhost:8080/"
        },
        "id": "aXco3AhAjv0B",
        "outputId": "1b06cf4e-6365-4641-d6c0-42fe47d6ca2a"
      },
      "execution_count": 9,
      "outputs": [
        {
          "output_type": "execute_result",
          "data": {
            "text/plain": [
              "(1797, 8, 8)"
            ]
          },
          "metadata": {},
          "execution_count": 9
        }
      ]
    },
    {
      "cell_type": "code",
      "source": [
        "mnist.images[0]"
      ],
      "metadata": {
        "colab": {
          "base_uri": "https://localhost:8080/"
        },
        "id": "eE1Tq5Msj0aX",
        "outputId": "5bf878f3-fc10-4073-af9e-bcc8eefafadc"
      },
      "execution_count": 10,
      "outputs": [
        {
          "output_type": "execute_result",
          "data": {
            "text/plain": [
              "array([[ 0.,  0.,  5., 13.,  9.,  1.,  0.,  0.],\n",
              "       [ 0.,  0., 13., 15., 10., 15.,  5.,  0.],\n",
              "       [ 0.,  3., 15.,  2.,  0., 11.,  8.,  0.],\n",
              "       [ 0.,  4., 12.,  0.,  0.,  8.,  8.,  0.],\n",
              "       [ 0.,  5.,  8.,  0.,  0.,  9.,  8.,  0.],\n",
              "       [ 0.,  4., 11.,  0.,  1., 12.,  7.,  0.],\n",
              "       [ 0.,  2., 14.,  5., 10., 12.,  0.,  0.],\n",
              "       [ 0.,  0.,  6., 13., 10.,  0.,  0.,  0.]])"
            ]
          },
          "metadata": {},
          "execution_count": 10
        }
      ]
    },
    {
      "cell_type": "code",
      "source": [
        "plt.imshow(mnist.images[0], cmap = \"binary\");"
      ],
      "metadata": {
        "colab": {
          "base_uri": "https://localhost:8080/",
          "height": 265
        },
        "id": "kAbCFqBYj5Yv",
        "outputId": "cfc1be2c-1af9-48d3-e4fb-17815dd709ec"
      },
      "execution_count": 12,
      "outputs": [
        {
          "output_type": "display_data",
          "data": {
            "text/plain": [
              "<Figure size 432x288 with 1 Axes>"
            ],
            "image/png": "[encoded data removed]"
          },
          "metadata": {
            "needs_background": "light"
          }
        }
      ]
    },
    {
      "cell_type": "code",
      "source": [
        "plt.imshow(mnist.images[97], cmap = \"binary\");"
      ],
      "metadata": {
        "colab": {
          "base_uri": "https://localhost:8080/",
          "height": 265
        },
        "id": "0Pj5bzrRkNLs",
        "outputId": "833d95c5-ef1c-49e8-f687-b1a0dd3f556c"
      },
      "execution_count": 13,
      "outputs": [
        {
          "output_type": "display_data",
          "data": {
            "text/plain": [
              "<Figure size 432x288 with 1 Axes>"
            ],
            "image/png": "[encoded data removed]"
          },
          "metadata": {
            "needs_background": "light"
          }
        }
      ]
    },
    {
      "cell_type": "code",
      "source": [
        "mnist.target.shape"
      ],
      "metadata": {
        "colab": {
          "base_uri": "https://localhost:8080/"
        },
        "id": "BpG6xKt5keks",
        "outputId": "cd75e379-9c0d-4382-8a6b-1e5ebc8a4c61"
      },
      "execution_count": 15,
      "outputs": [
        {
          "output_type": "execute_result",
          "data": {
            "text/plain": [
              "(1797,)"
            ]
          },
          "metadata": {},
          "execution_count": 15
        }
      ]
    },
    {
      "cell_type": "code",
      "source": [
        "X = mnist.data\n",
        "y = mnist.target"
      ],
      "metadata": {
        "id": "CmHUDbcXkj7p"
      },
      "execution_count": 20,
      "outputs": []
    },
    {
      "cell_type": "code",
      "source": [
        "from sklearn.model_selection import train_test_split"
      ],
      "metadata": {
        "id": "IDFhtqU4lD_6"
      },
      "execution_count": 21,
      "outputs": []
    },
    {
      "cell_type": "code",
      "source": [
        "X_train, X_test, y_train, y_test = train_test_split(X, y, train_size = 0.7,\n",
        "                                               random_state =  321,  stratify = y  )"
      ],
      "metadata": {
        "id": "qgDvuvRFlRxQ"
      },
      "execution_count": 30,
      "outputs": []
    },
    {
      "cell_type": "code",
      "source": [
        "X_train.shape"
      ],
      "metadata": {
        "colab": {
          "base_uri": "https://localhost:8080/"
        },
        "id": "XgZPVMycloB1",
        "outputId": "05088f80-6333-4996-ad0d-0212f0b6e66a"
      },
      "execution_count": 31,
      "outputs": [
        {
          "output_type": "execute_result",
          "data": {
            "text/plain": [
              "(1257, 64)"
            ]
          },
          "metadata": {},
          "execution_count": 31
        }
      ]
    },
    {
      "cell_type": "code",
      "source": [
        "y_train.shape"
      ],
      "metadata": {
        "colab": {
          "base_uri": "https://localhost:8080/"
        },
        "id": "X7WJty0tlm-l",
        "outputId": "1dc55387-758c-45c6-ae0a-e442fc498570"
      },
      "execution_count": 32,
      "outputs": [
        {
          "output_type": "execute_result",
          "data": {
            "text/plain": [
              "(1257,)"
            ]
          },
          "metadata": {},
          "execution_count": 32
        }
      ]
    },
    {
      "cell_type": "code",
      "source": [
        "X_test.shape"
      ],
      "metadata": {
        "colab": {
          "base_uri": "https://localhost:8080/"
        },
        "id": "6rWRiWMrmcUi",
        "outputId": "f4775c9c-8662-4c3c-d292-d35620f07b50"
      },
      "execution_count": 33,
      "outputs": [
        {
          "output_type": "execute_result",
          "data": {
            "text/plain": [
              "(540, 64)"
            ]
          },
          "metadata": {},
          "execution_count": 33
        }
      ]
    },
    {
      "cell_type": "code",
      "source": [
        "y_test.shape"
      ],
      "metadata": {
        "colab": {
          "base_uri": "https://localhost:8080/"
        },
        "id": "N07mpBKjmkEi",
        "outputId": "b84ec1fa-17e3-429c-fb45-e85a9c476a14"
      },
      "execution_count": 34,
      "outputs": [
        {
          "output_type": "execute_result",
          "data": {
            "text/plain": [
              "(540,)"
            ]
          },
          "metadata": {},
          "execution_count": 34
        }
      ]
    },
    {
      "cell_type": "code",
      "source": [
        "from sklearn.neural_network import MLPClassifier"
      ],
      "metadata": {
        "id": "LXBwg-Z6mnBA"
      },
      "execution_count": 35,
      "outputs": []
    },
    {
      "cell_type": "code",
      "source": [
        "mlp = MLPClassifier(activation = \"relu\", hidden_layer_sizes = (20,),\n",
        "                  random_state = 4, verbose = 1, max_iter = 400)"
      ],
      "metadata": {
        "id": "8PNp_2N5mu0E"
      },
      "execution_count": 39,
      "outputs": []
    },
    {
      "cell_type": "code",
      "source": [
        "mlp.fit(X_train, y_train)"
      ],
      "metadata": {
        "colab": {
          "base_uri": "https://localhost:8080/"
        },
        "id": "Ynasjwjmm5r5",
        "outputId": "f63b625d-0239-48ca-b485-09a9032aac69"
      },
      "execution_count": 40,
      "outputs": [
        {
          "output_type": "stream",
          "name": "stdout",
          "text": [
            "Iteration 1, loss = 6.97683915\n",
            "Iteration 2, loss = 5.24658077\n",
            "Iteration 3, loss = 4.00447948\n",
            "Iteration 4, loss = 3.10142116\n",
            "Iteration 5, loss = 2.45676766\n",
            "Iteration 6, loss = 2.05124084\n",
            "Iteration 7, loss = 1.78449591\n",
            "Iteration 8, loss = 1.57857896\n",
            "Iteration 9, loss = 1.40750945\n",
            "Iteration 10, loss = 1.27161156\n",
            "Iteration 11, loss = 1.15921777\n",
            "Iteration 12, loss = 1.06144827\n",
            "Iteration 13, loss = 0.97720116\n",
            "Iteration 14, loss = 0.89903813\n",
            "Iteration 15, loss = 0.83356570\n",
            "Iteration 16, loss = 0.77301816\n",
            "Iteration 17, loss = 0.71915062\n",
            "Iteration 18, loss = 0.67108078\n",
            "Iteration 19, loss = 0.62849211\n",
            "Iteration 20, loss = 0.59080483\n",
            "Iteration 21, loss = 0.55613351\n",
            "Iteration 22, loss = 0.52487172\n",
            "Iteration 23, loss = 0.49877256\n",
            "Iteration 24, loss = 0.47483128\n",
            "Iteration 25, loss = 0.45299929\n",
            "Iteration 26, loss = 0.43409144\n",
            "Iteration 27, loss = 0.41591355\n",
            "Iteration 28, loss = 0.39975074\n",
            "Iteration 29, loss = 0.38520759\n",
            "Iteration 30, loss = 0.37207872\n",
            "Iteration 31, loss = 0.35734517\n",
            "Iteration 32, loss = 0.34651275\n",
            "Iteration 33, loss = 0.33521351\n",
            "Iteration 34, loss = 0.32422899\n",
            "Iteration 35, loss = 0.31652883\n",
            "Iteration 36, loss = 0.30644870\n",
            "Iteration 37, loss = 0.29859122\n",
            "Iteration 38, loss = 0.29071726\n",
            "Iteration 39, loss = 0.28201309\n",
            "Iteration 40, loss = 0.27556363\n",
            "Iteration 41, loss = 0.26749005\n",
            "Iteration 42, loss = 0.26091411\n",
            "Iteration 43, loss = 0.25539467\n",
            "Iteration 44, loss = 0.24858855\n",
            "Iteration 45, loss = 0.24219504\n",
            "Iteration 46, loss = 0.23546888\n",
            "Iteration 47, loss = 0.23004239\n",
            "Iteration 48, loss = 0.22500879\n",
            "Iteration 49, loss = 0.22028549\n",
            "Iteration 50, loss = 0.21613483\n",
            "Iteration 51, loss = 0.20945032\n",
            "Iteration 52, loss = 0.20466049\n",
            "Iteration 53, loss = 0.20042769\n",
            "Iteration 54, loss = 0.19549660\n",
            "Iteration 55, loss = 0.19167176\n",
            "Iteration 56, loss = 0.18666138\n",
            "Iteration 57, loss = 0.18186082\n",
            "Iteration 58, loss = 0.17766532\n",
            "Iteration 59, loss = 0.17468669\n",
            "Iteration 60, loss = 0.17041424\n",
            "Iteration 61, loss = 0.16627506\n",
            "Iteration 62, loss = 0.16323824\n",
            "Iteration 63, loss = 0.15853122\n",
            "Iteration 64, loss = 0.15480357\n",
            "Iteration 65, loss = 0.15173851\n",
            "Iteration 66, loss = 0.14989545\n",
            "Iteration 67, loss = 0.14622289\n",
            "Iteration 68, loss = 0.14368790\n",
            "Iteration 69, loss = 0.14027776\n",
            "Iteration 70, loss = 0.13642642\n",
            "Iteration 71, loss = 0.13333803\n",
            "Iteration 72, loss = 0.13126688\n",
            "Iteration 73, loss = 0.12940489\n",
            "Iteration 74, loss = 0.12602282\n",
            "Iteration 75, loss = 0.12293365\n",
            "Iteration 76, loss = 0.12138835\n",
            "Iteration 77, loss = 0.11880052\n",
            "Iteration 78, loss = 0.11653739\n",
            "Iteration 79, loss = 0.11347255\n",
            "Iteration 80, loss = 0.11126756\n",
            "Iteration 81, loss = 0.10957164\n",
            "Iteration 82, loss = 0.10853364\n",
            "Iteration 83, loss = 0.10610150\n",
            "Iteration 84, loss = 0.10328896\n",
            "Iteration 85, loss = 0.10192386\n",
            "Iteration 86, loss = 0.09929287\n",
            "Iteration 87, loss = 0.09755362\n",
            "Iteration 88, loss = 0.09548623\n",
            "Iteration 89, loss = 0.09421151\n",
            "Iteration 90, loss = 0.09290429\n",
            "Iteration 91, loss = 0.09077645\n",
            "Iteration 92, loss = 0.08950765\n",
            "Iteration 93, loss = 0.08726585\n",
            "Iteration 94, loss = 0.08605161\n",
            "Iteration 95, loss = 0.08406034\n",
            "Iteration 96, loss = 0.08299191\n",
            "Iteration 97, loss = 0.08174965\n",
            "Iteration 98, loss = 0.07986368\n",
            "Iteration 99, loss = 0.07872313\n",
            "Iteration 100, loss = 0.07716827\n",
            "Iteration 101, loss = 0.07621509\n",
            "Iteration 102, loss = 0.07458660\n",
            "Iteration 103, loss = 0.07278719\n",
            "Iteration 104, loss = 0.07240122\n",
            "Iteration 105, loss = 0.07299630\n",
            "Iteration 106, loss = 0.07095141\n",
            "Iteration 107, loss = 0.06812732\n",
            "Iteration 108, loss = 0.06789447\n",
            "Iteration 109, loss = 0.06707404\n",
            "Iteration 110, loss = 0.06578952\n",
            "Iteration 111, loss = 0.06435078\n",
            "Iteration 112, loss = 0.06306579\n",
            "Iteration 113, loss = 0.06288497\n",
            "Iteration 114, loss = 0.06059658\n",
            "Iteration 115, loss = 0.05968069\n",
            "Iteration 116, loss = 0.05861478\n",
            "Iteration 117, loss = 0.05725668\n",
            "Iteration 118, loss = 0.05707405\n",
            "Iteration 119, loss = 0.05615875\n",
            "Iteration 120, loss = 0.05448776\n",
            "Iteration 121, loss = 0.05394919\n",
            "Iteration 122, loss = 0.05284585\n",
            "Iteration 123, loss = 0.05223636\n",
            "Iteration 124, loss = 0.05178367\n",
            "Iteration 125, loss = 0.05063251\n",
            "Iteration 126, loss = 0.04997115\n",
            "Iteration 127, loss = 0.04906650\n",
            "Iteration 128, loss = 0.04776464\n",
            "Iteration 129, loss = 0.04733962\n",
            "Iteration 130, loss = 0.04672519\n",
            "Iteration 131, loss = 0.04642307\n",
            "Iteration 132, loss = 0.04515607\n",
            "Iteration 133, loss = 0.04416591\n",
            "Iteration 134, loss = 0.04375824\n",
            "Iteration 135, loss = 0.04312240\n",
            "Iteration 136, loss = 0.04230444\n",
            "Iteration 137, loss = 0.04142184\n",
            "Iteration 138, loss = 0.04084031\n",
            "Iteration 139, loss = 0.04045884\n",
            "Iteration 140, loss = 0.03963026\n",
            "Iteration 141, loss = 0.03912783\n",
            "Iteration 142, loss = 0.03960468\n",
            "Iteration 143, loss = 0.03773475\n",
            "Iteration 144, loss = 0.03818277\n",
            "Iteration 145, loss = 0.03710022\n",
            "Iteration 146, loss = 0.03642852\n",
            "Iteration 147, loss = 0.03607168\n",
            "Iteration 148, loss = 0.03568880\n",
            "Iteration 149, loss = 0.03541920\n",
            "Iteration 150, loss = 0.03474513\n",
            "Iteration 151, loss = 0.03428692\n",
            "Iteration 152, loss = 0.03438464\n",
            "Iteration 153, loss = 0.03321754\n",
            "Iteration 154, loss = 0.03271265\n",
            "Iteration 155, loss = 0.03231035\n",
            "Iteration 156, loss = 0.03168246\n",
            "Iteration 157, loss = 0.03127908\n",
            "Iteration 158, loss = 0.03093605\n",
            "Iteration 159, loss = 0.03024458\n",
            "Iteration 160, loss = 0.02980361\n",
            "Iteration 161, loss = 0.02950396\n",
            "Iteration 162, loss = 0.02916464\n",
            "Iteration 163, loss = 0.02857814\n",
            "Iteration 164, loss = 0.02840899\n",
            "Iteration 165, loss = 0.02818066\n",
            "Iteration 166, loss = 0.02742534\n",
            "Iteration 167, loss = 0.02716402\n",
            "Iteration 168, loss = 0.02673088\n",
            "Iteration 169, loss = 0.02641020\n",
            "Iteration 170, loss = 0.02605487\n",
            "Iteration 171, loss = 0.02583658\n",
            "Iteration 172, loss = 0.02531476\n",
            "Iteration 173, loss = 0.02504724\n",
            "Iteration 174, loss = 0.02477395\n",
            "Iteration 175, loss = 0.02453267\n",
            "Iteration 176, loss = 0.02410338\n",
            "Iteration 177, loss = 0.02406673\n",
            "Iteration 178, loss = 0.02362490\n",
            "Iteration 179, loss = 0.02340268\n",
            "Iteration 180, loss = 0.02374277\n",
            "Iteration 181, loss = 0.02303234\n",
            "Iteration 182, loss = 0.02263561\n",
            "Iteration 183, loss = 0.02251700\n",
            "Iteration 184, loss = 0.02211728\n",
            "Iteration 185, loss = 0.02222082\n",
            "Iteration 186, loss = 0.02173906\n",
            "Iteration 187, loss = 0.02137559\n",
            "Iteration 188, loss = 0.02102780\n",
            "Iteration 189, loss = 0.02093169\n",
            "Iteration 190, loss = 0.02045863\n",
            "Iteration 191, loss = 0.02034598\n",
            "Iteration 192, loss = 0.01999141\n",
            "Iteration 193, loss = 0.01980264\n",
            "Iteration 194, loss = 0.01950948\n",
            "Iteration 195, loss = 0.01931626\n",
            "Iteration 196, loss = 0.01928204\n",
            "Iteration 197, loss = 0.01877290\n",
            "Iteration 198, loss = 0.01840368\n",
            "Iteration 199, loss = 0.01828787\n",
            "Iteration 200, loss = 0.01844241\n",
            "Iteration 201, loss = 0.01805469\n",
            "Iteration 202, loss = 0.01775061\n",
            "Iteration 203, loss = 0.01756692\n",
            "Iteration 204, loss = 0.01722435\n",
            "Iteration 205, loss = 0.01717368\n",
            "Iteration 206, loss = 0.01682996\n",
            "Iteration 207, loss = 0.01672943\n",
            "Iteration 208, loss = 0.01678250\n",
            "Iteration 209, loss = 0.01642343\n",
            "Iteration 210, loss = 0.01602750\n",
            "Iteration 211, loss = 0.01607305\n",
            "Iteration 212, loss = 0.01590614\n",
            "Iteration 213, loss = 0.01561499\n",
            "Iteration 214, loss = 0.01547400\n",
            "Iteration 215, loss = 0.01535977\n",
            "Iteration 216, loss = 0.01511655\n",
            "Iteration 217, loss = 0.01504320\n",
            "Iteration 218, loss = 0.01473691\n",
            "Iteration 219, loss = 0.01470229\n",
            "Iteration 220, loss = 0.01456121\n",
            "Iteration 221, loss = 0.01446733\n",
            "Iteration 222, loss = 0.01429097\n",
            "Iteration 223, loss = 0.01414002\n",
            "Iteration 224, loss = 0.01386082\n",
            "Iteration 225, loss = 0.01382461\n",
            "Iteration 226, loss = 0.01367086\n",
            "Iteration 227, loss = 0.01358885\n",
            "Iteration 228, loss = 0.01344446\n",
            "Iteration 229, loss = 0.01336043\n",
            "Iteration 230, loss = 0.01310332\n",
            "Iteration 231, loss = 0.01305716\n",
            "Iteration 232, loss = 0.01287315\n",
            "Iteration 233, loss = 0.01286754\n",
            "Iteration 234, loss = 0.01272958\n",
            "Iteration 235, loss = 0.01261365\n",
            "Iteration 236, loss = 0.01252782\n",
            "Iteration 237, loss = 0.01231612\n",
            "Iteration 238, loss = 0.01222207\n",
            "Iteration 239, loss = 0.01211462\n",
            "Iteration 240, loss = 0.01205105\n",
            "Iteration 241, loss = 0.01194025\n",
            "Iteration 242, loss = 0.01177025\n",
            "Iteration 243, loss = 0.01155462\n",
            "Iteration 244, loss = 0.01158759\n",
            "Iteration 245, loss = 0.01142966\n",
            "Iteration 246, loss = 0.01128533\n",
            "Iteration 247, loss = 0.01123609\n",
            "Iteration 248, loss = 0.01124755\n",
            "Iteration 249, loss = 0.01109471\n",
            "Iteration 250, loss = 0.01099530\n",
            "Iteration 251, loss = 0.01080914\n",
            "Iteration 252, loss = 0.01079455\n",
            "Iteration 253, loss = 0.01063946\n",
            "Iteration 254, loss = 0.01054154\n",
            "Iteration 255, loss = 0.01049840\n",
            "Iteration 256, loss = 0.01035992\n",
            "Iteration 257, loss = 0.01027617\n",
            "Iteration 258, loss = 0.01012721\n",
            "Iteration 259, loss = 0.01015849\n",
            "Iteration 260, loss = 0.01001815\n",
            "Iteration 261, loss = 0.01002056\n",
            "Iteration 262, loss = 0.00989437\n",
            "Iteration 263, loss = 0.00981311\n",
            "Iteration 264, loss = 0.00966681\n",
            "Iteration 265, loss = 0.00958975\n",
            "Iteration 266, loss = 0.00952553\n",
            "Iteration 267, loss = 0.00946073\n",
            "Iteration 268, loss = 0.00943140\n",
            "Iteration 269, loss = 0.00928449\n",
            "Iteration 270, loss = 0.00927143\n",
            "Iteration 271, loss = 0.00911814\n",
            "Iteration 272, loss = 0.00909922\n",
            "Iteration 273, loss = 0.00912892\n",
            "Iteration 274, loss = 0.00889087\n",
            "Iteration 275, loss = 0.00882851\n",
            "Iteration 276, loss = 0.00877710\n",
            "Iteration 277, loss = 0.00871213\n",
            "Iteration 278, loss = 0.00858148\n",
            "Iteration 279, loss = 0.00863906\n",
            "Iteration 280, loss = 0.00850118\n",
            "Iteration 281, loss = 0.00838833\n",
            "Iteration 282, loss = 0.00832958\n",
            "Iteration 283, loss = 0.00831284\n",
            "Iteration 284, loss = 0.00817798\n",
            "Iteration 285, loss = 0.00815280\n",
            "Iteration 286, loss = 0.00804074\n",
            "Iteration 287, loss = 0.00797136\n",
            "Iteration 288, loss = 0.00797806\n",
            "Iteration 289, loss = 0.00795700\n",
            "Iteration 290, loss = 0.00790908\n",
            "Iteration 291, loss = 0.00775526\n",
            "Iteration 292, loss = 0.00772191\n",
            "Iteration 293, loss = 0.00764840\n",
            "Iteration 294, loss = 0.00755406\n",
            "Iteration 295, loss = 0.00751704\n",
            "Iteration 296, loss = 0.00760249\n",
            "Iteration 297, loss = 0.00762570\n",
            "Iteration 298, loss = 0.00735393\n",
            "Iteration 299, loss = 0.00734327\n",
            "Iteration 300, loss = 0.00719161\n",
            "Iteration 301, loss = 0.00722746\n",
            "Iteration 302, loss = 0.00718412\n",
            "Iteration 303, loss = 0.00706892\n",
            "Iteration 304, loss = 0.00709069\n",
            "Iteration 305, loss = 0.00700211\n",
            "Iteration 306, loss = 0.00698170\n",
            "Iteration 307, loss = 0.00683194\n",
            "Iteration 308, loss = 0.00679710\n",
            "Iteration 309, loss = 0.00678502\n",
            "Iteration 310, loss = 0.00667131\n",
            "Iteration 311, loss = 0.00666986\n",
            "Iteration 312, loss = 0.00660954\n",
            "Iteration 313, loss = 0.00654121\n",
            "Iteration 314, loss = 0.00650774\n",
            "Iteration 315, loss = 0.00644679\n",
            "Iteration 316, loss = 0.00644439\n",
            "Iteration 317, loss = 0.00632850\n",
            "Iteration 318, loss = 0.00628375\n",
            "Iteration 319, loss = 0.00624290\n",
            "Iteration 320, loss = 0.00620278\n",
            "Iteration 321, loss = 0.00615131\n",
            "Iteration 322, loss = 0.00613550\n",
            "Iteration 323, loss = 0.00609561\n",
            "Iteration 324, loss = 0.00606813\n",
            "Iteration 325, loss = 0.00612637\n",
            "Iteration 326, loss = 0.00598819\n",
            "Iteration 327, loss = 0.00592309\n",
            "Iteration 328, loss = 0.00587634\n",
            "Training loss did not improve more than tol=0.000100 for 10 consecutive epochs. Stopping.\n"
          ]
        },
        {
          "output_type": "execute_result",
          "data": {
            "text/plain": [
              "MLPClassifier(hidden_layer_sizes=(20,), max_iter=400, random_state=4, verbose=1)"
            ]
          },
          "metadata": {},
          "execution_count": 40
        }
      ]
    },
    {
      "cell_type": "code",
      "source": [
        "plt.plot(mlp.loss_curve_)"
      ],
      "metadata": {
        "colab": {
          "base_uri": "https://localhost:8080/",
          "height": 282
        },
        "id": "zOC0mLqGm5Sv",
        "outputId": "b36973e3-6223-4afa-c9be-0c70433f8cdc"
      },
      "execution_count": 41,
      "outputs": [
        {
          "output_type": "execute_result",
          "data": {
            "text/plain": [
              "[<matplotlib.lines.Line2D at 0x7fd8f831e9d0>]"
            ]
          },
          "metadata": {},
          "execution_count": 41
        },
        {
          "output_type": "display_data",
          "data": {
            "text/plain": [
              "<Figure size 432x288 with 1 Axes>"
            ],
            "image/png": "[encoded data removed]"
          },
          "metadata": {
            "needs_background": "light"
          }
        }
      ]
    },
    {
      "cell_type": "code",
      "source": [
        "mlp.score(X_train, y_train)"
      ],
      "metadata": {
        "colab": {
          "base_uri": "https://localhost:8080/"
        },
        "id": "FmTNacw2n52t",
        "outputId": "70070b19-66e0-49d6-bab8-81bc0b9934e2"
      },
      "execution_count": 42,
      "outputs": [
        {
          "output_type": "execute_result",
          "data": {
            "text/plain": [
              "1.0"
            ]
          },
          "metadata": {},
          "execution_count": 42
        }
      ]
    },
    {
      "cell_type": "code",
      "source": [
        "mlp.score(X_test, y_test)"
      ],
      "metadata": {
        "colab": {
          "base_uri": "https://localhost:8080/"
        },
        "id": "AWYakYxUoOor",
        "outputId": "8c9ce456-5ec4-4635-81d4-27a9a9d5f37b"
      },
      "execution_count": 43,
      "outputs": [
        {
          "output_type": "execute_result",
          "data": {
            "text/plain": [
              "0.9648148148148148"
            ]
          },
          "metadata": {},
          "execution_count": 43
        }
      ]
    },
    {
      "cell_type": "code",
      "source": [
        "from sklearn.metrics import classification_report"
      ],
      "metadata": {
        "id": "dcsLMtPuoTx6"
      },
      "execution_count": 44,
      "outputs": []
    },
    {
      "cell_type": "code",
      "source": [
        "y_pred = mlp.predict(X_test)\n",
        "print(classification_report(y_test, y_pred))"
      ],
      "metadata": {
        "colab": {
          "base_uri": "https://localhost:8080/"
        },
        "id": "Pqnigo5mowQp",
        "outputId": "2d1dc394-835e-4cc7-a908-32a3706ca9d9"
      },
      "execution_count": 46,
      "outputs": [
        {
          "output_type": "stream",
          "name": "stdout",
          "text": [
            "              precision    recall  f1-score   support\n",
            "\n",
            "           0       0.98      1.00      0.99        54\n",
            "           1       0.93      0.96      0.95        55\n",
            "           2       1.00      1.00      1.00        53\n",
            "           3       1.00      1.00      1.00        55\n",
            "           4       0.98      0.96      0.97        54\n",
            "           5       0.98      0.98      0.98        55\n",
            "           6       0.98      0.98      0.98        54\n",
            "           7       0.95      0.96      0.95        54\n",
            "           8       0.92      0.85      0.88        52\n",
            "           9       0.93      0.94      0.94        54\n",
            "\n",
            "    accuracy                           0.96       540\n",
            "   macro avg       0.96      0.96      0.96       540\n",
            "weighted avg       0.96      0.96      0.96       540\n",
            "\n"
          ]
        }
      ]
    },
    {
      "cell_type": "code",
      "source": [
        "from sklearn.metrics import confusion_matrix"
      ],
      "metadata": {
        "id": "TevA3gxpoX2O"
      },
      "execution_count": 47,
      "outputs": []
    },
    {
      "cell_type": "code",
      "source": [
        "confusion_matrix(y_test, y_pred)"
      ],
      "metadata": {
        "colab": {
          "base_uri": "https://localhost:8080/"
        },
        "id": "p1wv6eowosF4",
        "outputId": "cbeedbf5-4ccf-4e54-ead4-182ed739fbf6"
      },
      "execution_count": 48,
      "outputs": [
        {
          "output_type": "execute_result",
          "data": {
            "text/plain": [
              "array([[54,  0,  0,  0,  0,  0,  0,  0,  0,  0],\n",
              "       [ 0, 53,  0,  0,  0,  0,  0,  0,  2,  0],\n",
              "       [ 0,  0, 53,  0,  0,  0,  0,  0,  0,  0],\n",
              "       [ 0,  0,  0, 55,  0,  0,  0,  0,  0,  0],\n",
              "       [ 0,  1,  0,  0, 52,  0,  1,  0,  0,  0],\n",
              "       [ 0,  0,  0,  0,  0, 54,  0,  0,  0,  1],\n",
              "       [ 0,  0,  0,  0,  0,  0, 53,  0,  1,  0],\n",
              "       [ 0,  0,  0,  0,  1,  0,  0, 52,  1,  0],\n",
              "       [ 1,  2,  0,  0,  0,  1,  0,  1, 44,  3],\n",
              "       [ 0,  1,  0,  0,  0,  0,  0,  2,  0, 51]])"
            ]
          },
          "metadata": {},
          "execution_count": 48
        }
      ]
    },
    {
      "cell_type": "code",
      "source": [],
      "metadata": {
        "id": "n36bNkdNo2Al"
      },
      "execution_count": null,
      "outputs": []
    }
  ]
}